{
 "cells": [
  {
   "cell_type": "markdown",
   "metadata": {},
   "source": [
    "## Importing Libraries"
   ]
  },
  {
   "cell_type": "code",
   "execution_count": 695,
   "metadata": {},
   "outputs": [],
   "source": [
    "import pandas as pd\n",
    "import numpy as np\n",
    "from matplotlib import pyplot as plt\n",
    "from sklearn.impute import SimpleImputer\n",
    "from sklearn.preprocessing import StandardScaler\n",
    "from imblearn.over_sampling import SMOTE\n",
    "from sklearn.decomposition import PCA\n",
    "import seaborn as sn\n",
    "from sklearn.ensemble import RandomForestClassifier  \n",
    "from sklearn import metrics\n",
    "from sklearn import svm\n",
    "from sklearn.linear_model import LogisticRegression\n",
    "from sklearn.naive_bayes import GaussianNB\n",
    "from sklearn.ensemble import GradientBoostingClassifier\n",
    "from imblearn.under_sampling import EditedNearestNeighbours\n",
    "import random\n",
    "from sklearn.neighbors import KNeighborsClassifier\n",
    "from sklearn.linear_model import SGDClassifier\n",
    "from sklearn.preprocessing import MinMaxScaler\n",
    "from sklearn.feature_selection import SelectKBest, chi2\n",
    "from sklearn.model_selection import RepeatedStratifiedKFold\n",
    "from sklearn.model_selection import GridSearchCV\n",
    "from sklearn.model_selection import cross_val_score, train_test_split\n",
    "import seaborn as sns\n",
    "from collections import Counter\n",
    "from sklearn.datasets import make_classification\n",
    "from imblearn.under_sampling import EditedNearestNeighbours\n",
    "from numpy import where\n",
    "from sklearn.model_selection import RandomizedSearchCV\n",
    "from sklearn.ensemble import VotingClassifier\n",
    "from sklearn.metrics import precision_recall_fscore_support\n",
    "from sklearn.preprocessing import Normalizer\n",
    "from sklearn.metrics import precision_score, f1_score, recall_score\n",
    "from imblearn.under_sampling import AllKNN \n",
    "from imblearn.under_sampling import EditedNearestNeighbours\n",
    "from imblearn.under_sampling import RepeatedEditedNearestNeighbours\n",
    "from imblearn.under_sampling import CondensedNearestNeighbour\n",
    "from imblearn.under_sampling import TomekLinks"
   ]
  },
  {
   "cell_type": "markdown",
   "metadata": {},
   "source": [
    "#### Utility functions"
   ]
  },
  {
   "cell_type": "code",
   "execution_count": 548,
   "metadata": {},
   "outputs": [],
   "source": [
    "\n",
    "# The null values are represented by string na in data we need to convert that to numpy.Nan or Pd.nan for more clarity\n",
    "def na_to_nan(data):\n",
    "    data = data.replace(\"na\", np.nan)\n",
    "    return data\n",
    "\n",
    "#function to create confusion metrix\n",
    "def result_analysis(actual_labels, predicted_labels):\n",
    "    cm=metrics.confusion_matrix(actual_labels,predicted_labels)\n",
    "    plt.figure(figsize=(5,5))\n",
    "    sn.heatmap(cm,annot=True,cbar=False, fmt='g')\n",
    "    cm1 = pd.DataFrame(cm.reshape((1,4)), columns=['True_negatives', 'False_positives', 'False_negatives', 'True_positives'])\n",
    "    plt.xlabel(\"Predicted\")\n",
    "    plt.ylabel(\"Actual\")\n",
    "    plt.title(\"Confusion matrix\")\n",
    "    Total_Cost = 10*cm1.False_positives + 500*cm1.False_negatives\n",
    "    plt.show()\n",
    "    print(cm1)\n",
    "    print(\"Cost is :\", Total_Cost[0])\n",
    "    prfs = precision_recall_fscore_support(actual_labels, predicted_labels)\n",
    "    \n",
    "    prec = prfs[0][1]\n",
    "    recall = prfs[1][1]\n",
    "    f1 = prfs[2][1]\n",
    "    \n",
    "    return Total_Cost[0], prec, recall, f1"
   ]
  },
  {
   "cell_type": "markdown",
   "metadata": {},
   "source": [
    "## Reading training and testing dataset"
   ]
  },
  {
   "cell_type": "code",
   "execution_count": 3,
   "metadata": {},
   "outputs": [
    {
     "data": {
      "text/html": [
       "<div>\n",
       "<style scoped>\n",
       "    .dataframe tbody tr th:only-of-type {\n",
       "        vertical-align: middle;\n",
       "    }\n",
       "\n",
       "    .dataframe tbody tr th {\n",
       "        vertical-align: top;\n",
       "    }\n",
       "\n",
       "    .dataframe thead th {\n",
       "        text-align: right;\n",
       "    }\n",
       "</style>\n",
       "<table border=\"1\" class=\"dataframe\">\n",
       "  <thead>\n",
       "    <tr style=\"text-align: right;\">\n",
       "      <th></th>\n",
       "      <th>class</th>\n",
       "      <th>aa_000</th>\n",
       "      <th>ab_000</th>\n",
       "      <th>ac_000</th>\n",
       "      <th>ad_000</th>\n",
       "      <th>ae_000</th>\n",
       "      <th>af_000</th>\n",
       "      <th>ag_000</th>\n",
       "      <th>ag_001</th>\n",
       "      <th>ag_002</th>\n",
       "      <th>...</th>\n",
       "      <th>ee_002</th>\n",
       "      <th>ee_003</th>\n",
       "      <th>ee_004</th>\n",
       "      <th>ee_005</th>\n",
       "      <th>ee_006</th>\n",
       "      <th>ee_007</th>\n",
       "      <th>ee_008</th>\n",
       "      <th>ee_009</th>\n",
       "      <th>ef_000</th>\n",
       "      <th>eg_000</th>\n",
       "    </tr>\n",
       "  </thead>\n",
       "  <tbody>\n",
       "    <tr>\n",
       "      <th>0</th>\n",
       "      <td>neg</td>\n",
       "      <td>76698</td>\n",
       "      <td>na</td>\n",
       "      <td>2130706438</td>\n",
       "      <td>280</td>\n",
       "      <td>0</td>\n",
       "      <td>0</td>\n",
       "      <td>0</td>\n",
       "      <td>0</td>\n",
       "      <td>0</td>\n",
       "      <td>...</td>\n",
       "      <td>1240520</td>\n",
       "      <td>493384</td>\n",
       "      <td>721044</td>\n",
       "      <td>469792</td>\n",
       "      <td>339156</td>\n",
       "      <td>157956</td>\n",
       "      <td>73224</td>\n",
       "      <td>0</td>\n",
       "      <td>0</td>\n",
       "      <td>0</td>\n",
       "    </tr>\n",
       "    <tr>\n",
       "      <th>1</th>\n",
       "      <td>neg</td>\n",
       "      <td>33058</td>\n",
       "      <td>na</td>\n",
       "      <td>0</td>\n",
       "      <td>na</td>\n",
       "      <td>0</td>\n",
       "      <td>0</td>\n",
       "      <td>0</td>\n",
       "      <td>0</td>\n",
       "      <td>0</td>\n",
       "      <td>...</td>\n",
       "      <td>421400</td>\n",
       "      <td>178064</td>\n",
       "      <td>293306</td>\n",
       "      <td>245416</td>\n",
       "      <td>133654</td>\n",
       "      <td>81140</td>\n",
       "      <td>97576</td>\n",
       "      <td>1500</td>\n",
       "      <td>0</td>\n",
       "      <td>0</td>\n",
       "    </tr>\n",
       "    <tr>\n",
       "      <th>2</th>\n",
       "      <td>neg</td>\n",
       "      <td>41040</td>\n",
       "      <td>na</td>\n",
       "      <td>228</td>\n",
       "      <td>100</td>\n",
       "      <td>0</td>\n",
       "      <td>0</td>\n",
       "      <td>0</td>\n",
       "      <td>0</td>\n",
       "      <td>0</td>\n",
       "      <td>...</td>\n",
       "      <td>277378</td>\n",
       "      <td>159812</td>\n",
       "      <td>423992</td>\n",
       "      <td>409564</td>\n",
       "      <td>320746</td>\n",
       "      <td>158022</td>\n",
       "      <td>95128</td>\n",
       "      <td>514</td>\n",
       "      <td>0</td>\n",
       "      <td>0</td>\n",
       "    </tr>\n",
       "    <tr>\n",
       "      <th>3</th>\n",
       "      <td>neg</td>\n",
       "      <td>12</td>\n",
       "      <td>0</td>\n",
       "      <td>70</td>\n",
       "      <td>66</td>\n",
       "      <td>0</td>\n",
       "      <td>10</td>\n",
       "      <td>0</td>\n",
       "      <td>0</td>\n",
       "      <td>0</td>\n",
       "      <td>...</td>\n",
       "      <td>240</td>\n",
       "      <td>46</td>\n",
       "      <td>58</td>\n",
       "      <td>44</td>\n",
       "      <td>10</td>\n",
       "      <td>0</td>\n",
       "      <td>0</td>\n",
       "      <td>0</td>\n",
       "      <td>4</td>\n",
       "      <td>32</td>\n",
       "    </tr>\n",
       "    <tr>\n",
       "      <th>4</th>\n",
       "      <td>neg</td>\n",
       "      <td>60874</td>\n",
       "      <td>na</td>\n",
       "      <td>1368</td>\n",
       "      <td>458</td>\n",
       "      <td>0</td>\n",
       "      <td>0</td>\n",
       "      <td>0</td>\n",
       "      <td>0</td>\n",
       "      <td>0</td>\n",
       "      <td>...</td>\n",
       "      <td>622012</td>\n",
       "      <td>229790</td>\n",
       "      <td>405298</td>\n",
       "      <td>347188</td>\n",
       "      <td>286954</td>\n",
       "      <td>311560</td>\n",
       "      <td>433954</td>\n",
       "      <td>1218</td>\n",
       "      <td>0</td>\n",
       "      <td>0</td>\n",
       "    </tr>\n",
       "  </tbody>\n",
       "</table>\n",
       "<p>5 rows × 171 columns</p>\n",
       "</div>"
      ],
      "text/plain": [
       "  class  aa_000 ab_000      ac_000 ad_000 ae_000 af_000 ag_000 ag_001 ag_002  \\\n",
       "0   neg   76698     na  2130706438    280      0      0      0      0      0   \n",
       "1   neg   33058     na           0     na      0      0      0      0      0   \n",
       "2   neg   41040     na         228    100      0      0      0      0      0   \n",
       "3   neg      12      0          70     66      0     10      0      0      0   \n",
       "4   neg   60874     na        1368    458      0      0      0      0      0   \n",
       "\n",
       "   ...   ee_002  ee_003  ee_004  ee_005  ee_006  ee_007  ee_008 ee_009 ef_000  \\\n",
       "0  ...  1240520  493384  721044  469792  339156  157956   73224      0      0   \n",
       "1  ...   421400  178064  293306  245416  133654   81140   97576   1500      0   \n",
       "2  ...   277378  159812  423992  409564  320746  158022   95128    514      0   \n",
       "3  ...      240      46      58      44      10       0       0      0      4   \n",
       "4  ...   622012  229790  405298  347188  286954  311560  433954   1218      0   \n",
       "\n",
       "  eg_000  \n",
       "0      0  \n",
       "1      0  \n",
       "2      0  \n",
       "3     32  \n",
       "4      0  \n",
       "\n",
       "[5 rows x 171 columns]"
      ]
     },
     "execution_count": 3,
     "metadata": {},
     "output_type": "execute_result"
    }
   ],
   "source": [
    "#training data\n",
    "df_train = pd.read_csv(\"./aps_failure_training_set.csv\", skiprows=20)# the file contain some additional information about the data, so skipping that part to read the actual data from file\n",
    "df_train.head()\n",
    "#df_train = df_train.sample(1000)"
   ]
  },
  {
   "cell_type": "code",
   "execution_count": 4,
   "metadata": {},
   "outputs": [
    {
     "data": {
      "text/html": [
       "<div>\n",
       "<style scoped>\n",
       "    .dataframe tbody tr th:only-of-type {\n",
       "        vertical-align: middle;\n",
       "    }\n",
       "\n",
       "    .dataframe tbody tr th {\n",
       "        vertical-align: top;\n",
       "    }\n",
       "\n",
       "    .dataframe thead th {\n",
       "        text-align: right;\n",
       "    }\n",
       "</style>\n",
       "<table border=\"1\" class=\"dataframe\">\n",
       "  <thead>\n",
       "    <tr style=\"text-align: right;\">\n",
       "      <th></th>\n",
       "      <th>class</th>\n",
       "      <th>aa_000</th>\n",
       "      <th>ab_000</th>\n",
       "      <th>ac_000</th>\n",
       "      <th>ad_000</th>\n",
       "      <th>ae_000</th>\n",
       "      <th>af_000</th>\n",
       "      <th>ag_000</th>\n",
       "      <th>ag_001</th>\n",
       "      <th>ag_002</th>\n",
       "      <th>...</th>\n",
       "      <th>ee_002</th>\n",
       "      <th>ee_003</th>\n",
       "      <th>ee_004</th>\n",
       "      <th>ee_005</th>\n",
       "      <th>ee_006</th>\n",
       "      <th>ee_007</th>\n",
       "      <th>ee_008</th>\n",
       "      <th>ee_009</th>\n",
       "      <th>ef_000</th>\n",
       "      <th>eg_000</th>\n",
       "    </tr>\n",
       "  </thead>\n",
       "  <tbody>\n",
       "    <tr>\n",
       "      <th>0</th>\n",
       "      <td>neg</td>\n",
       "      <td>60</td>\n",
       "      <td>0</td>\n",
       "      <td>20</td>\n",
       "      <td>12</td>\n",
       "      <td>0</td>\n",
       "      <td>0</td>\n",
       "      <td>0</td>\n",
       "      <td>0</td>\n",
       "      <td>0</td>\n",
       "      <td>...</td>\n",
       "      <td>1098</td>\n",
       "      <td>138</td>\n",
       "      <td>412</td>\n",
       "      <td>654</td>\n",
       "      <td>78</td>\n",
       "      <td>88</td>\n",
       "      <td>0</td>\n",
       "      <td>0</td>\n",
       "      <td>0</td>\n",
       "      <td>0</td>\n",
       "    </tr>\n",
       "    <tr>\n",
       "      <th>1</th>\n",
       "      <td>neg</td>\n",
       "      <td>82</td>\n",
       "      <td>0</td>\n",
       "      <td>68</td>\n",
       "      <td>40</td>\n",
       "      <td>0</td>\n",
       "      <td>0</td>\n",
       "      <td>0</td>\n",
       "      <td>0</td>\n",
       "      <td>0</td>\n",
       "      <td>...</td>\n",
       "      <td>1068</td>\n",
       "      <td>276</td>\n",
       "      <td>1620</td>\n",
       "      <td>116</td>\n",
       "      <td>86</td>\n",
       "      <td>462</td>\n",
       "      <td>0</td>\n",
       "      <td>0</td>\n",
       "      <td>0</td>\n",
       "      <td>0</td>\n",
       "    </tr>\n",
       "    <tr>\n",
       "      <th>2</th>\n",
       "      <td>neg</td>\n",
       "      <td>66002</td>\n",
       "      <td>2</td>\n",
       "      <td>212</td>\n",
       "      <td>112</td>\n",
       "      <td>0</td>\n",
       "      <td>0</td>\n",
       "      <td>0</td>\n",
       "      <td>0</td>\n",
       "      <td>0</td>\n",
       "      <td>...</td>\n",
       "      <td>495076</td>\n",
       "      <td>380368</td>\n",
       "      <td>440134</td>\n",
       "      <td>269556</td>\n",
       "      <td>1315022</td>\n",
       "      <td>153680</td>\n",
       "      <td>516</td>\n",
       "      <td>0</td>\n",
       "      <td>0</td>\n",
       "      <td>0</td>\n",
       "    </tr>\n",
       "    <tr>\n",
       "      <th>3</th>\n",
       "      <td>neg</td>\n",
       "      <td>59816</td>\n",
       "      <td>na</td>\n",
       "      <td>1010</td>\n",
       "      <td>936</td>\n",
       "      <td>0</td>\n",
       "      <td>0</td>\n",
       "      <td>0</td>\n",
       "      <td>0</td>\n",
       "      <td>0</td>\n",
       "      <td>...</td>\n",
       "      <td>540820</td>\n",
       "      <td>243270</td>\n",
       "      <td>483302</td>\n",
       "      <td>485332</td>\n",
       "      <td>431376</td>\n",
       "      <td>210074</td>\n",
       "      <td>281662</td>\n",
       "      <td>3232</td>\n",
       "      <td>0</td>\n",
       "      <td>0</td>\n",
       "    </tr>\n",
       "    <tr>\n",
       "      <th>4</th>\n",
       "      <td>neg</td>\n",
       "      <td>1814</td>\n",
       "      <td>na</td>\n",
       "      <td>156</td>\n",
       "      <td>140</td>\n",
       "      <td>0</td>\n",
       "      <td>0</td>\n",
       "      <td>0</td>\n",
       "      <td>0</td>\n",
       "      <td>0</td>\n",
       "      <td>...</td>\n",
       "      <td>7646</td>\n",
       "      <td>4144</td>\n",
       "      <td>18466</td>\n",
       "      <td>49782</td>\n",
       "      <td>3176</td>\n",
       "      <td>482</td>\n",
       "      <td>76</td>\n",
       "      <td>0</td>\n",
       "      <td>0</td>\n",
       "      <td>0</td>\n",
       "    </tr>\n",
       "  </tbody>\n",
       "</table>\n",
       "<p>5 rows × 171 columns</p>\n",
       "</div>"
      ],
      "text/plain": [
       "  class  aa_000 ab_000 ac_000 ad_000 ae_000 af_000 ag_000 ag_001 ag_002  ...  \\\n",
       "0   neg      60      0     20     12      0      0      0      0      0  ...   \n",
       "1   neg      82      0     68     40      0      0      0      0      0  ...   \n",
       "2   neg   66002      2    212    112      0      0      0      0      0  ...   \n",
       "3   neg   59816     na   1010    936      0      0      0      0      0  ...   \n",
       "4   neg    1814     na    156    140      0      0      0      0      0  ...   \n",
       "\n",
       "   ee_002  ee_003  ee_004  ee_005   ee_006  ee_007  ee_008 ee_009 ef_000  \\\n",
       "0    1098     138     412     654       78      88       0      0      0   \n",
       "1    1068     276    1620     116       86     462       0      0      0   \n",
       "2  495076  380368  440134  269556  1315022  153680     516      0      0   \n",
       "3  540820  243270  483302  485332   431376  210074  281662   3232      0   \n",
       "4    7646    4144   18466   49782     3176     482      76      0      0   \n",
       "\n",
       "  eg_000  \n",
       "0      0  \n",
       "1      0  \n",
       "2      0  \n",
       "3      0  \n",
       "4      0  \n",
       "\n",
       "[5 rows x 171 columns]"
      ]
     },
     "execution_count": 4,
     "metadata": {},
     "output_type": "execute_result"
    }
   ],
   "source": [
    "#testing data\n",
    "df_test = pd.read_csv(\"./aps_failure_test_set.csv\", skiprows=20)# the file contain some additional information about the data, so skipping that part to read the actual data from file\n",
    "df_test.head()\n",
    "#df_test = df_test.sample(1000)"
   ]
  },
  {
   "cell_type": "markdown",
   "metadata": {},
   "source": [
    "## Pre-processing and Analysis"
   ]
  },
  {
   "cell_type": "code",
   "execution_count": 5,
   "metadata": {},
   "outputs": [
    {
     "name": "stdout",
     "output_type": "stream",
     "text": [
      "<class 'pandas.core.frame.DataFrame'>\n",
      "RangeIndex: 60000 entries, 0 to 59999\n",
      "Columns: 171 entries, class to eg_000\n",
      "dtypes: int64(1), object(170)\n",
      "memory usage: 78.3+ MB\n"
     ]
    }
   ],
   "source": [
    "#high level information on training set\n",
    "df_train.info()"
   ]
  },
  {
   "cell_type": "code",
   "execution_count": 6,
   "metadata": {},
   "outputs": [
    {
     "name": "stdout",
     "output_type": "stream",
     "text": [
      "<class 'pandas.core.frame.DataFrame'>\n",
      "RangeIndex: 16000 entries, 0 to 15999\n",
      "Columns: 171 entries, class to eg_000\n",
      "dtypes: int64(1), object(170)\n",
      "memory usage: 20.9+ MB\n"
     ]
    }
   ],
   "source": [
    "#high level information on testing set\n",
    "df_test.info()"
   ]
  },
  {
   "cell_type": "code",
   "execution_count": 7,
   "metadata": {},
   "outputs": [
    {
     "name": "stdout",
     "output_type": "stream",
     "text": [
      "neg    59000\n",
      "pos     1000\n",
      "Name: class, dtype: int64\n"
     ]
    },
    {
     "data": {
      "text/plain": [
       "<AxesSubplot:>"
      ]
     },
     "execution_count": 7,
     "metadata": {},
     "output_type": "execute_result"
    },
    {
     "data": {
      "image/png": "[encoded data removed]",
      "text/plain": [
       "<Figure size 432x288 with 1 Axes>"
      ]
     },
     "metadata": {
      "needs_background": "light"
     },
     "output_type": "display_data"
    }
   ],
   "source": [
    "#Checking the distribution of classes in training data\n",
    "print(df_train[\"class\"].value_counts())\n",
    "df_train[\"class\"].value_counts().plot(kind='barh')"
   ]
  },
  {
   "cell_type": "markdown",
   "metadata": {},
   "source": [
    "Dataset provided for the training is highly imabalanced"
   ]
  },
  {
   "cell_type": "code",
   "execution_count": 8,
   "metadata": {},
   "outputs": [
    {
     "name": "stdout",
     "output_type": "stream",
     "text": [
      "neg    15625\n",
      "pos      375\n",
      "Name: class, dtype: int64\n"
     ]
    },
    {
     "data": {
      "text/plain": [
       "<AxesSubplot:>"
      ]
     },
     "execution_count": 8,
     "metadata": {},
     "output_type": "execute_result"
    },
    {
     "data": {
      "image/png": "[encoded data removed]",
      "text/plain": [
       "<Figure size 432x288 with 1 Axes>"
      ]
     },
     "metadata": {
      "needs_background": "light"
     },
     "output_type": "display_data"
    }
   ],
   "source": [
    "#Checking the distribution of classes in testing data\n",
    "print(df_test[\"class\"].value_counts())\n",
    "df_test[\"class\"].value_counts().plot(kind='barh')"
   ]
  },
  {
   "cell_type": "code",
   "execution_count": 9,
   "metadata": {},
   "outputs": [
    {
     "name": "stdout",
     "output_type": "stream",
     "text": [
      "Total data : 60000\n",
      "Total data without any null value in any rows : 60000\n",
      "Total data without any duplicate rows : 60000\n"
     ]
    }
   ],
   "source": [
    "#Checking the duplicate rows and presence of null values in training data\n",
    "print(\"Total data :\",len(df_train))\n",
    "print(\"Total data without any null value in any rows :\",len(df_train.dropna()))\n",
    "print(\"Total data without any duplicate rows :\",len(df_train.drop_duplicates()))"
   ]
  },
  {
   "cell_type": "code",
   "execution_count": 10,
   "metadata": {},
   "outputs": [
    {
     "data": {
      "text/html": [
       "<div>\n",
       "<style scoped>\n",
       "    .dataframe tbody tr th:only-of-type {\n",
       "        vertical-align: middle;\n",
       "    }\n",
       "\n",
       "    .dataframe tbody tr th {\n",
       "        vertical-align: top;\n",
       "    }\n",
       "\n",
       "    .dataframe thead th {\n",
       "        text-align: right;\n",
       "    }\n",
       "</style>\n",
       "<table border=\"1\" class=\"dataframe\">\n",
       "  <thead>\n",
       "    <tr style=\"text-align: right;\">\n",
       "      <th></th>\n",
       "      <th>class</th>\n",
       "      <th>aa_000</th>\n",
       "      <th>ab_000</th>\n",
       "      <th>ac_000</th>\n",
       "      <th>ad_000</th>\n",
       "      <th>ae_000</th>\n",
       "      <th>af_000</th>\n",
       "      <th>ag_000</th>\n",
       "      <th>ag_001</th>\n",
       "      <th>ag_002</th>\n",
       "      <th>...</th>\n",
       "      <th>ee_002</th>\n",
       "      <th>ee_003</th>\n",
       "      <th>ee_004</th>\n",
       "      <th>ee_005</th>\n",
       "      <th>ee_006</th>\n",
       "      <th>ee_007</th>\n",
       "      <th>ee_008</th>\n",
       "      <th>ee_009</th>\n",
       "      <th>ef_000</th>\n",
       "      <th>eg_000</th>\n",
       "    </tr>\n",
       "  </thead>\n",
       "  <tbody>\n",
       "    <tr>\n",
       "      <th>0</th>\n",
       "      <td>neg</td>\n",
       "      <td>76698</td>\n",
       "      <td>NaN</td>\n",
       "      <td>2130706438</td>\n",
       "      <td>280</td>\n",
       "      <td>0</td>\n",
       "      <td>0</td>\n",
       "      <td>0</td>\n",
       "      <td>0</td>\n",
       "      <td>0</td>\n",
       "      <td>...</td>\n",
       "      <td>1240520</td>\n",
       "      <td>493384</td>\n",
       "      <td>721044</td>\n",
       "      <td>469792</td>\n",
       "      <td>339156</td>\n",
       "      <td>157956</td>\n",
       "      <td>73224</td>\n",
       "      <td>0</td>\n",
       "      <td>0</td>\n",
       "      <td>0</td>\n",
       "    </tr>\n",
       "    <tr>\n",
       "      <th>1</th>\n",
       "      <td>neg</td>\n",
       "      <td>33058</td>\n",
       "      <td>NaN</td>\n",
       "      <td>0</td>\n",
       "      <td>NaN</td>\n",
       "      <td>0</td>\n",
       "      <td>0</td>\n",
       "      <td>0</td>\n",
       "      <td>0</td>\n",
       "      <td>0</td>\n",
       "      <td>...</td>\n",
       "      <td>421400</td>\n",
       "      <td>178064</td>\n",
       "      <td>293306</td>\n",
       "      <td>245416</td>\n",
       "      <td>133654</td>\n",
       "      <td>81140</td>\n",
       "      <td>97576</td>\n",
       "      <td>1500</td>\n",
       "      <td>0</td>\n",
       "      <td>0</td>\n",
       "    </tr>\n",
       "    <tr>\n",
       "      <th>2</th>\n",
       "      <td>neg</td>\n",
       "      <td>41040</td>\n",
       "      <td>NaN</td>\n",
       "      <td>228</td>\n",
       "      <td>100</td>\n",
       "      <td>0</td>\n",
       "      <td>0</td>\n",
       "      <td>0</td>\n",
       "      <td>0</td>\n",
       "      <td>0</td>\n",
       "      <td>...</td>\n",
       "      <td>277378</td>\n",
       "      <td>159812</td>\n",
       "      <td>423992</td>\n",
       "      <td>409564</td>\n",
       "      <td>320746</td>\n",
       "      <td>158022</td>\n",
       "      <td>95128</td>\n",
       "      <td>514</td>\n",
       "      <td>0</td>\n",
       "      <td>0</td>\n",
       "    </tr>\n",
       "    <tr>\n",
       "      <th>3</th>\n",
       "      <td>neg</td>\n",
       "      <td>12</td>\n",
       "      <td>0</td>\n",
       "      <td>70</td>\n",
       "      <td>66</td>\n",
       "      <td>0</td>\n",
       "      <td>10</td>\n",
       "      <td>0</td>\n",
       "      <td>0</td>\n",
       "      <td>0</td>\n",
       "      <td>...</td>\n",
       "      <td>240</td>\n",
       "      <td>46</td>\n",
       "      <td>58</td>\n",
       "      <td>44</td>\n",
       "      <td>10</td>\n",
       "      <td>0</td>\n",
       "      <td>0</td>\n",
       "      <td>0</td>\n",
       "      <td>4</td>\n",
       "      <td>32</td>\n",
       "    </tr>\n",
       "    <tr>\n",
       "      <th>4</th>\n",
       "      <td>neg</td>\n",
       "      <td>60874</td>\n",
       "      <td>NaN</td>\n",
       "      <td>1368</td>\n",
       "      <td>458</td>\n",
       "      <td>0</td>\n",
       "      <td>0</td>\n",
       "      <td>0</td>\n",
       "      <td>0</td>\n",
       "      <td>0</td>\n",
       "      <td>...</td>\n",
       "      <td>622012</td>\n",
       "      <td>229790</td>\n",
       "      <td>405298</td>\n",
       "      <td>347188</td>\n",
       "      <td>286954</td>\n",
       "      <td>311560</td>\n",
       "      <td>433954</td>\n",
       "      <td>1218</td>\n",
       "      <td>0</td>\n",
       "      <td>0</td>\n",
       "    </tr>\n",
       "  </tbody>\n",
       "</table>\n",
       "<p>5 rows × 171 columns</p>\n",
       "</div>"
      ],
      "text/plain": [
       "  class  aa_000 ab_000      ac_000 ad_000 ae_000 af_000 ag_000 ag_001 ag_002  \\\n",
       "0   neg   76698    NaN  2130706438    280      0      0      0      0      0   \n",
       "1   neg   33058    NaN           0    NaN      0      0      0      0      0   \n",
       "2   neg   41040    NaN         228    100      0      0      0      0      0   \n",
       "3   neg      12      0          70     66      0     10      0      0      0   \n",
       "4   neg   60874    NaN        1368    458      0      0      0      0      0   \n",
       "\n",
       "   ...   ee_002  ee_003  ee_004  ee_005  ee_006  ee_007  ee_008 ee_009 ef_000  \\\n",
       "0  ...  1240520  493384  721044  469792  339156  157956   73224      0      0   \n",
       "1  ...   421400  178064  293306  245416  133654   81140   97576   1500      0   \n",
       "2  ...   277378  159812  423992  409564  320746  158022   95128    514      0   \n",
       "3  ...      240      46      58      44      10       0       0      0      4   \n",
       "4  ...   622012  229790  405298  347188  286954  311560  433954   1218      0   \n",
       "\n",
       "  eg_000  \n",
       "0      0  \n",
       "1      0  \n",
       "2      0  \n",
       "3     32  \n",
       "4      0  \n",
       "\n",
       "[5 rows x 171 columns]"
      ]
     },
     "execution_count": 10,
     "metadata": {},
     "output_type": "execute_result"
    }
   ],
   "source": [
    "#replacing string value na with np.nan on training data\n",
    "df_train = df_train.apply(lambda data: na_to_nan(data))\n",
    "df_train.head()"
   ]
  },
  {
   "cell_type": "code",
   "execution_count": 11,
   "metadata": {},
   "outputs": [
    {
     "data": {
      "text/html": [
       "<div>\n",
       "<style scoped>\n",
       "    .dataframe tbody tr th:only-of-type {\n",
       "        vertical-align: middle;\n",
       "    }\n",
       "\n",
       "    .dataframe tbody tr th {\n",
       "        vertical-align: top;\n",
       "    }\n",
       "\n",
       "    .dataframe thead th {\n",
       "        text-align: right;\n",
       "    }\n",
       "</style>\n",
       "<table border=\"1\" class=\"dataframe\">\n",
       "  <thead>\n",
       "    <tr style=\"text-align: right;\">\n",
       "      <th></th>\n",
       "      <th>class</th>\n",
       "      <th>aa_000</th>\n",
       "      <th>ab_000</th>\n",
       "      <th>ac_000</th>\n",
       "      <th>ad_000</th>\n",
       "      <th>ae_000</th>\n",
       "      <th>af_000</th>\n",
       "      <th>ag_000</th>\n",
       "      <th>ag_001</th>\n",
       "      <th>ag_002</th>\n",
       "      <th>...</th>\n",
       "      <th>ee_002</th>\n",
       "      <th>ee_003</th>\n",
       "      <th>ee_004</th>\n",
       "      <th>ee_005</th>\n",
       "      <th>ee_006</th>\n",
       "      <th>ee_007</th>\n",
       "      <th>ee_008</th>\n",
       "      <th>ee_009</th>\n",
       "      <th>ef_000</th>\n",
       "      <th>eg_000</th>\n",
       "    </tr>\n",
       "  </thead>\n",
       "  <tbody>\n",
       "    <tr>\n",
       "      <th>0</th>\n",
       "      <td>neg</td>\n",
       "      <td>60</td>\n",
       "      <td>0</td>\n",
       "      <td>20</td>\n",
       "      <td>12</td>\n",
       "      <td>0</td>\n",
       "      <td>0</td>\n",
       "      <td>0</td>\n",
       "      <td>0</td>\n",
       "      <td>0</td>\n",
       "      <td>...</td>\n",
       "      <td>1098</td>\n",
       "      <td>138</td>\n",
       "      <td>412</td>\n",
       "      <td>654</td>\n",
       "      <td>78</td>\n",
       "      <td>88</td>\n",
       "      <td>0</td>\n",
       "      <td>0</td>\n",
       "      <td>0</td>\n",
       "      <td>0</td>\n",
       "    </tr>\n",
       "    <tr>\n",
       "      <th>1</th>\n",
       "      <td>neg</td>\n",
       "      <td>82</td>\n",
       "      <td>0</td>\n",
       "      <td>68</td>\n",
       "      <td>40</td>\n",
       "      <td>0</td>\n",
       "      <td>0</td>\n",
       "      <td>0</td>\n",
       "      <td>0</td>\n",
       "      <td>0</td>\n",
       "      <td>...</td>\n",
       "      <td>1068</td>\n",
       "      <td>276</td>\n",
       "      <td>1620</td>\n",
       "      <td>116</td>\n",
       "      <td>86</td>\n",
       "      <td>462</td>\n",
       "      <td>0</td>\n",
       "      <td>0</td>\n",
       "      <td>0</td>\n",
       "      <td>0</td>\n",
       "    </tr>\n",
       "    <tr>\n",
       "      <th>2</th>\n",
       "      <td>neg</td>\n",
       "      <td>66002</td>\n",
       "      <td>2</td>\n",
       "      <td>212</td>\n",
       "      <td>112</td>\n",
       "      <td>0</td>\n",
       "      <td>0</td>\n",
       "      <td>0</td>\n",
       "      <td>0</td>\n",
       "      <td>0</td>\n",
       "      <td>...</td>\n",
       "      <td>495076</td>\n",
       "      <td>380368</td>\n",
       "      <td>440134</td>\n",
       "      <td>269556</td>\n",
       "      <td>1315022</td>\n",
       "      <td>153680</td>\n",
       "      <td>516</td>\n",
       "      <td>0</td>\n",
       "      <td>0</td>\n",
       "      <td>0</td>\n",
       "    </tr>\n",
       "    <tr>\n",
       "      <th>3</th>\n",
       "      <td>neg</td>\n",
       "      <td>59816</td>\n",
       "      <td>NaN</td>\n",
       "      <td>1010</td>\n",
       "      <td>936</td>\n",
       "      <td>0</td>\n",
       "      <td>0</td>\n",
       "      <td>0</td>\n",
       "      <td>0</td>\n",
       "      <td>0</td>\n",
       "      <td>...</td>\n",
       "      <td>540820</td>\n",
       "      <td>243270</td>\n",
       "      <td>483302</td>\n",
       "      <td>485332</td>\n",
       "      <td>431376</td>\n",
       "      <td>210074</td>\n",
       "      <td>281662</td>\n",
       "      <td>3232</td>\n",
       "      <td>0</td>\n",
       "      <td>0</td>\n",
       "    </tr>\n",
       "    <tr>\n",
       "      <th>4</th>\n",
       "      <td>neg</td>\n",
       "      <td>1814</td>\n",
       "      <td>NaN</td>\n",
       "      <td>156</td>\n",
       "      <td>140</td>\n",
       "      <td>0</td>\n",
       "      <td>0</td>\n",
       "      <td>0</td>\n",
       "      <td>0</td>\n",
       "      <td>0</td>\n",
       "      <td>...</td>\n",
       "      <td>7646</td>\n",
       "      <td>4144</td>\n",
       "      <td>18466</td>\n",
       "      <td>49782</td>\n",
       "      <td>3176</td>\n",
       "      <td>482</td>\n",
       "      <td>76</td>\n",
       "      <td>0</td>\n",
       "      <td>0</td>\n",
       "      <td>0</td>\n",
       "    </tr>\n",
       "  </tbody>\n",
       "</table>\n",
       "<p>5 rows × 171 columns</p>\n",
       "</div>"
      ],
      "text/plain": [
       "  class  aa_000 ab_000 ac_000 ad_000 ae_000 af_000 ag_000 ag_001 ag_002  ...  \\\n",
       "0   neg      60      0     20     12      0      0      0      0      0  ...   \n",
       "1   neg      82      0     68     40      0      0      0      0      0  ...   \n",
       "2   neg   66002      2    212    112      0      0      0      0      0  ...   \n",
       "3   neg   59816    NaN   1010    936      0      0      0      0      0  ...   \n",
       "4   neg    1814    NaN    156    140      0      0      0      0      0  ...   \n",
       "\n",
       "   ee_002  ee_003  ee_004  ee_005   ee_006  ee_007  ee_008 ee_009 ef_000  \\\n",
       "0    1098     138     412     654       78      88       0      0      0   \n",
       "1    1068     276    1620     116       86     462       0      0      0   \n",
       "2  495076  380368  440134  269556  1315022  153680     516      0      0   \n",
       "3  540820  243270  483302  485332   431376  210074  281662   3232      0   \n",
       "4    7646    4144   18466   49782     3176     482      76      0      0   \n",
       "\n",
       "  eg_000  \n",
       "0      0  \n",
       "1      0  \n",
       "2      0  \n",
       "3      0  \n",
       "4      0  \n",
       "\n",
       "[5 rows x 171 columns]"
      ]
     },
     "execution_count": 11,
     "metadata": {},
     "output_type": "execute_result"
    }
   ],
   "source": [
    "#replacing string value na with np.nan on testing data\n",
    "df_test = df_test.apply(lambda data: na_to_nan(data))\n",
    "df_test.head()"
   ]
  },
  {
   "cell_type": "code",
   "execution_count": 12,
   "metadata": {},
   "outputs": [
    {
     "name": "stdout",
     "output_type": "stream",
     "text": [
      "Number of columns without any nan in training set 2\n",
      "Number of columns without any nan in testing set 2\n"
     ]
    }
   ],
   "source": [
    "print(\"Number of columns without any nan in training set\", len(df_train.columns[df_train.notna().all()]))\n",
    "print(\"Number of columns without any nan in testing set\", len(df_test.columns[df_test.notna().all()]))"
   ]
  },
  {
   "cell_type": "code",
   "execution_count": 13,
   "metadata": {},
   "outputs": [
    {
     "name": "stdout",
     "output_type": "stream",
     "text": [
      "Total data : 60000\n",
      "Total data without any null value in any rows : 591\n",
      "Total data without any duplicate rows : 60000\n"
     ]
    }
   ],
   "source": [
    "#Checking the duplicate rows and presence of null values in training data\n",
    "print(\"Total data :\",len(df_train))\n",
    "print(\"Total data without any null value in any rows :\",len(df_train.dropna()))\n",
    "print(\"Total data without any duplicate rows :\",len(df_train.drop_duplicates()))"
   ]
  },
  {
   "cell_type": "code",
   "execution_count": 14,
   "metadata": {},
   "outputs": [
    {
     "name": "stdout",
     "output_type": "stream",
     "text": [
      "Total data : 16000\n",
      "Total data without any null value in any rows : 165\n",
      "Total data without any duplicate rows : 16000\n"
     ]
    }
   ],
   "source": [
    "#Checking the duplicate rows and presence of null values in testing data\n",
    "print(\"Total data :\",len(df_test))\n",
    "print(\"Total data without any null value in any rows :\",len(df_test.dropna()))\n",
    "print(\"Total data without any duplicate rows :\",len(df_test.drop_duplicates()))"
   ]
  },
  {
   "cell_type": "code",
   "execution_count": 15,
   "metadata": {},
   "outputs": [
    {
     "name": "stdout",
     "output_type": "stream",
     "text": [
      "class => total nan values :  0  percentage of nan values :  0.0\n",
      "aa_000 => total nan values :  0  percentage of nan values :  0.0\n",
      "ab_000 => total nan values :  46329  percentage of nan values :  77.215\n",
      "ac_000 => total nan values :  3335  percentage of nan values :  5.558333333333334\n",
      "ad_000 => total nan values :  14861  percentage of nan values :  24.768333333333334\n",
      "ae_000 => total nan values :  2500  percentage of nan values :  4.166666666666666\n",
      "af_000 => total nan values :  2500  percentage of nan values :  4.166666666666666\n",
      "ag_000 => total nan values :  671  percentage of nan values :  1.1183333333333334\n",
      "ag_001 => total nan values :  671  percentage of nan values :  1.1183333333333334\n",
      "ag_002 => total nan values :  671  percentage of nan values :  1.1183333333333334\n",
      "ag_003 => total nan values :  671  percentage of nan values :  1.1183333333333334\n",
      "ag_004 => total nan values :  671  percentage of nan values :  1.1183333333333334\n",
      "ag_005 => total nan values :  671  percentage of nan values :  1.1183333333333334\n",
      "ag_006 => total nan values :  671  percentage of nan values :  1.1183333333333334\n",
      "ag_007 => total nan values :  671  percentage of nan values :  1.1183333333333334\n",
      "ag_008 => total nan values :  671  percentage of nan values :  1.1183333333333334\n",
      "ag_009 => total nan values :  671  percentage of nan values :  1.1183333333333334\n",
      "ah_000 => total nan values :  645  percentage of nan values :  1.075\n",
      "ai_000 => total nan values :  629  percentage of nan values :  1.0483333333333333\n",
      "aj_000 => total nan values :  629  percentage of nan values :  1.0483333333333333\n",
      "ak_000 => total nan values :  4400  percentage of nan values :  7.333333333333333\n",
      "al_000 => total nan values :  642  percentage of nan values :  1.0699999999999998\n",
      "am_0 => total nan values :  629  percentage of nan values :  1.0483333333333333\n",
      "an_000 => total nan values :  642  percentage of nan values :  1.0699999999999998\n",
      "ao_000 => total nan values :  589  percentage of nan values :  0.9816666666666666\n",
      "ap_000 => total nan values :  642  percentage of nan values :  1.0699999999999998\n",
      "aq_000 => total nan values :  589  percentage of nan values :  0.9816666666666666\n",
      "ar_000 => total nan values :  2723  percentage of nan values :  4.538333333333333\n",
      "as_000 => total nan values :  629  percentage of nan values :  1.0483333333333333\n",
      "at_000 => total nan values :  629  percentage of nan values :  1.0483333333333333\n",
      "au_000 => total nan values :  629  percentage of nan values :  1.0483333333333333\n",
      "av_000 => total nan values :  2500  percentage of nan values :  4.166666666666666\n",
      "ax_000 => total nan values :  2501  percentage of nan values :  4.168333333333334\n",
      "ay_000 => total nan values :  671  percentage of nan values :  1.1183333333333334\n",
      "ay_001 => total nan values :  671  percentage of nan values :  1.1183333333333334\n",
      "ay_002 => total nan values :  671  percentage of nan values :  1.1183333333333334\n",
      "ay_003 => total nan values :  671  percentage of nan values :  1.1183333333333334\n",
      "ay_004 => total nan values :  671  percentage of nan values :  1.1183333333333334\n",
      "ay_005 => total nan values :  671  percentage of nan values :  1.1183333333333334\n",
      "ay_006 => total nan values :  671  percentage of nan values :  1.1183333333333334\n",
      "ay_007 => total nan values :  671  percentage of nan values :  1.1183333333333334\n",
      "ay_008 => total nan values :  671  percentage of nan values :  1.1183333333333334\n",
      "ay_009 => total nan values :  671  percentage of nan values :  1.1183333333333334\n",
      "az_000 => total nan values :  671  percentage of nan values :  1.1183333333333334\n",
      "az_001 => total nan values :  671  percentage of nan values :  1.1183333333333334\n",
      "az_002 => total nan values :  671  percentage of nan values :  1.1183333333333334\n",
      "az_003 => total nan values :  671  percentage of nan values :  1.1183333333333334\n",
      "az_004 => total nan values :  671  percentage of nan values :  1.1183333333333334\n",
      "az_005 => total nan values :  671  percentage of nan values :  1.1183333333333334\n",
      "az_006 => total nan values :  671  percentage of nan values :  1.1183333333333334\n",
      "az_007 => total nan values :  671  percentage of nan values :  1.1183333333333334\n",
      "az_008 => total nan values :  671  percentage of nan values :  1.1183333333333334\n",
      "az_009 => total nan values :  671  percentage of nan values :  1.1183333333333334\n",
      "ba_000 => total nan values :  688  percentage of nan values :  1.1466666666666667\n",
      "ba_001 => total nan values :  688  percentage of nan values :  1.1466666666666667\n",
      "ba_002 => total nan values :  688  percentage of nan values :  1.1466666666666667\n",
      "ba_003 => total nan values :  688  percentage of nan values :  1.1466666666666667\n",
      "ba_004 => total nan values :  688  percentage of nan values :  1.1466666666666667\n",
      "ba_005 => total nan values :  688  percentage of nan values :  1.1466666666666667\n",
      "ba_006 => total nan values :  688  percentage of nan values :  1.1466666666666667\n",
      "ba_007 => total nan values :  688  percentage of nan values :  1.1466666666666667\n",
      "ba_008 => total nan values :  688  percentage of nan values :  1.1466666666666667\n",
      "ba_009 => total nan values :  688  percentage of nan values :  1.1466666666666667\n",
      "bb_000 => total nan values :  645  percentage of nan values :  1.075\n",
      "bc_000 => total nan values :  2725  percentage of nan values :  4.541666666666667\n",
      "bd_000 => total nan values :  2727  percentage of nan values :  4.545\n",
      "be_000 => total nan values :  2503  percentage of nan values :  4.171666666666667\n",
      "bf_000 => total nan values :  2500  percentage of nan values :  4.166666666666666\n",
      "bg_000 => total nan values :  642  percentage of nan values :  1.0699999999999998\n",
      "bh_000 => total nan values :  642  percentage of nan values :  1.0699999999999998\n",
      "bi_000 => total nan values :  589  percentage of nan values :  0.9816666666666666\n",
      "bj_000 => total nan values :  589  percentage of nan values :  0.9816666666666666\n",
      "bk_000 => total nan values :  23034  percentage of nan values :  38.39\n",
      "bl_000 => total nan values :  27277  percentage of nan values :  45.461666666666666\n",
      "bm_000 => total nan values :  39549  percentage of nan values :  65.915\n",
      "bn_000 => total nan values :  44009  percentage of nan values :  73.34833333333334\n",
      "bo_000 => total nan values :  46333  percentage of nan values :  77.22166666666666\n",
      "bp_000 => total nan values :  47740  percentage of nan values :  79.56666666666666\n",
      "bq_000 => total nan values :  48722  percentage of nan values :  81.20333333333333\n",
      "br_000 => total nan values :  49264  percentage of nan values :  82.10666666666665\n",
      "bs_000 => total nan values :  726  percentage of nan values :  1.21\n",
      "bt_000 => total nan values :  167  percentage of nan values :  0.2783333333333333\n",
      "bu_000 => total nan values :  691  percentage of nan values :  1.1516666666666666\n",
      "bv_000 => total nan values :  691  percentage of nan values :  1.1516666666666666\n",
      "bx_000 => total nan values :  3257  percentage of nan values :  5.428333333333334\n",
      "by_000 => total nan values :  473  percentage of nan values :  0.7883333333333332\n",
      "bz_000 => total nan values :  2723  percentage of nan values :  4.538333333333333\n",
      "ca_000 => total nan values :  4356  percentage of nan values :  7.26\n",
      "cb_000 => total nan values :  726  percentage of nan values :  1.21\n",
      "cc_000 => total nan values :  3255  percentage of nan values :  5.425\n",
      "cd_000 => total nan values :  676  percentage of nan values :  1.1266666666666667\n",
      "ce_000 => total nan values :  2502  percentage of nan values :  4.17\n",
      "cf_000 => total nan values :  14861  percentage of nan values :  24.768333333333334\n",
      "cg_000 => total nan values :  14861  percentage of nan values :  24.768333333333334\n",
      "ch_000 => total nan values :  14861  percentage of nan values :  24.768333333333334\n",
      "ci_000 => total nan values :  338  percentage of nan values :  0.5633333333333334\n",
      "cj_000 => total nan values :  338  percentage of nan values :  0.5633333333333334\n",
      "ck_000 => total nan values :  338  percentage of nan values :  0.5633333333333334\n",
      "cl_000 => total nan values :  9553  percentage of nan values :  15.921666666666667\n",
      "cm_000 => total nan values :  9877  percentage of nan values :  16.461666666666666\n",
      "cn_000 => total nan values :  687  percentage of nan values :  1.145\n",
      "cn_001 => total nan values :  687  percentage of nan values :  1.145\n",
      "cn_002 => total nan values :  687  percentage of nan values :  1.145\n",
      "cn_003 => total nan values :  687  percentage of nan values :  1.145\n",
      "cn_004 => total nan values :  687  percentage of nan values :  1.145\n",
      "cn_005 => total nan values :  687  percentage of nan values :  1.145\n",
      "cn_006 => total nan values :  687  percentage of nan values :  1.145\n",
      "cn_007 => total nan values :  687  percentage of nan values :  1.145\n",
      "cn_008 => total nan values :  687  percentage of nan values :  1.145\n",
      "cn_009 => total nan values :  687  percentage of nan values :  1.145\n",
      "co_000 => total nan values :  14861  percentage of nan values :  24.768333333333334\n",
      "cp_000 => total nan values :  2724  percentage of nan values :  4.54\n",
      "cq_000 => total nan values :  691  percentage of nan values :  1.1516666666666666\n",
      "cr_000 => total nan values :  46329  percentage of nan values :  77.215\n",
      "cs_000 => total nan values :  669  percentage of nan values :  1.115\n",
      "cs_001 => total nan values :  669  percentage of nan values :  1.115\n",
      "cs_002 => total nan values :  669  percentage of nan values :  1.115\n",
      "cs_003 => total nan values :  669  percentage of nan values :  1.115\n",
      "cs_004 => total nan values :  669  percentage of nan values :  1.115\n",
      "cs_005 => total nan values :  669  percentage of nan values :  1.115\n",
      "cs_006 => total nan values :  669  percentage of nan values :  1.115\n",
      "cs_007 => total nan values :  669  percentage of nan values :  1.115\n",
      "cs_008 => total nan values :  669  percentage of nan values :  1.115\n",
      "cs_009 => total nan values :  669  percentage of nan values :  1.115\n",
      "ct_000 => total nan values :  13808  percentage of nan values :  23.013333333333332\n",
      "cu_000 => total nan values :  13808  percentage of nan values :  23.013333333333332\n",
      "cv_000 => total nan values :  13808  percentage of nan values :  23.013333333333332\n",
      "cx_000 => total nan values :  13808  percentage of nan values :  23.013333333333332\n",
      "cy_000 => total nan values :  13808  percentage of nan values :  23.013333333333332\n",
      "cz_000 => total nan values :  13808  percentage of nan values :  23.013333333333332\n",
      "da_000 => total nan values :  13808  percentage of nan values :  23.013333333333332\n",
      "db_000 => total nan values :  13808  percentage of nan values :  23.013333333333332\n",
      "dc_000 => total nan values :  13808  percentage of nan values :  23.013333333333332\n",
      "dd_000 => total nan values :  2503  percentage of nan values :  4.171666666666667\n",
      "de_000 => total nan values :  2724  percentage of nan values :  4.54\n",
      "df_000 => total nan values :  4008  percentage of nan values :  6.68\n",
      "dg_000 => total nan values :  4008  percentage of nan values :  6.68\n",
      "dh_000 => total nan values :  4008  percentage of nan values :  6.68\n",
      "di_000 => total nan values :  4006  percentage of nan values :  6.676666666666667\n",
      "dj_000 => total nan values :  4007  percentage of nan values :  6.678333333333334\n",
      "dk_000 => total nan values :  4007  percentage of nan values :  6.678333333333334\n",
      "dl_000 => total nan values :  4008  percentage of nan values :  6.68\n",
      "dm_000 => total nan values :  4009  percentage of nan values :  6.681666666666667\n",
      "dn_000 => total nan values :  691  percentage of nan values :  1.1516666666666666\n",
      "do_000 => total nan values :  2724  percentage of nan values :  4.54\n",
      "dp_000 => total nan values :  2726  percentage of nan values :  4.543333333333333\n",
      "dq_000 => total nan values :  2726  percentage of nan values :  4.543333333333333\n",
      "dr_000 => total nan values :  2726  percentage of nan values :  4.543333333333333\n",
      "ds_000 => total nan values :  2727  percentage of nan values :  4.545\n",
      "dt_000 => total nan values :  2727  percentage of nan values :  4.545\n",
      "du_000 => total nan values :  2726  percentage of nan values :  4.543333333333333\n",
      "dv_000 => total nan values :  2726  percentage of nan values :  4.543333333333333\n",
      "dx_000 => total nan values :  2723  percentage of nan values :  4.538333333333333\n",
      "dy_000 => total nan values :  2724  percentage of nan values :  4.54\n",
      "dz_000 => total nan values :  2723  percentage of nan values :  4.538333333333333\n",
      "ea_000 => total nan values :  2723  percentage of nan values :  4.538333333333333\n",
      "eb_000 => total nan values :  4007  percentage of nan values :  6.678333333333334\n",
      "ec_00 => total nan values :  10239  percentage of nan values :  17.065\n"
     ]
    },
    {
     "name": "stdout",
     "output_type": "stream",
     "text": [
      "ed_000 => total nan values :  9553  percentage of nan values :  15.921666666666667\n",
      "ee_000 => total nan values :  671  percentage of nan values :  1.1183333333333334\n",
      "ee_001 => total nan values :  671  percentage of nan values :  1.1183333333333334\n",
      "ee_002 => total nan values :  671  percentage of nan values :  1.1183333333333334\n",
      "ee_003 => total nan values :  671  percentage of nan values :  1.1183333333333334\n",
      "ee_004 => total nan values :  671  percentage of nan values :  1.1183333333333334\n",
      "ee_005 => total nan values :  671  percentage of nan values :  1.1183333333333334\n",
      "ee_006 => total nan values :  671  percentage of nan values :  1.1183333333333334\n",
      "ee_007 => total nan values :  671  percentage of nan values :  1.1183333333333334\n",
      "ee_008 => total nan values :  671  percentage of nan values :  1.1183333333333334\n",
      "ee_009 => total nan values :  671  percentage of nan values :  1.1183333333333334\n",
      "ef_000 => total nan values :  2724  percentage of nan values :  4.54\n",
      "eg_000 => total nan values :  2723  percentage of nan values :  4.538333333333333\n"
     ]
    }
   ],
   "source": [
    "#Checking the percentage of presence of null data in each column\n",
    "col_name = []\n",
    "percentage = []\n",
    "for each_column in df_train.columns:\n",
    "    temp =df_train[each_column].isna().sum()\n",
    "    per = temp/len(df_train)*100\n",
    "    col_name.append(each_column)\n",
    "    percentage.append(per)\n",
    "    print(each_column,\"=> total nan values : \", temp, \" percentage of nan values : \", temp/len(df_train)*100)"
   ]
  },
  {
   "cell_type": "code",
   "execution_count": 16,
   "metadata": {},
   "outputs": [
    {
     "data": {
      "text/plain": [
       "Text(0, 0.5, 'Percentage')"
      ]
     },
     "execution_count": 16,
     "metadata": {},
     "output_type": "execute_result"
    },
    {
     "data": {
      "image/png": "[encoded data removed]",
      "text/plain": [
       "<Figure size 432x288 with 1 Axes>"
      ]
     },
     "metadata": {
      "needs_background": "light"
     },
     "output_type": "display_data"
    }
   ],
   "source": [
    "fig = plt.figure()\n",
    "plt.rcParams[\"figure.figsize\"] = (40,4)\n",
    "plt.bar(col_name, percentage)\n",
    "fig.suptitle('Percentage of null values in training data', fontsize=20)\n",
    "plt.xlabel('Column names', fontsize=17)\n",
    "plt.ylabel('Percentage', fontsize=15)"
   ]
  },
  {
   "cell_type": "code",
   "execution_count": 17,
   "metadata": {},
   "outputs": [
    {
     "name": "stdout",
     "output_type": "stream",
     "text": [
      "ab_000 => total nan values :  46329  percentage of nan values :  77.215\n",
      "bm_000 => total nan values :  39549  percentage of nan values :  65.915\n",
      "bn_000 => total nan values :  44009  percentage of nan values :  73.34833333333334\n",
      "bo_000 => total nan values :  46333  percentage of nan values :  77.22166666666666\n",
      "bp_000 => total nan values :  47740  percentage of nan values :  79.56666666666666\n",
      "bq_000 => total nan values :  48722  percentage of nan values :  81.20333333333333\n",
      "br_000 => total nan values :  49264  percentage of nan values :  82.10666666666665\n",
      "cr_000 => total nan values :  46329  percentage of nan values :  77.215\n"
     ]
    }
   ],
   "source": [
    "#Checking the columns which all are having presence of nan higher that 50%\n",
    "columns_to_drop = []\n",
    "for each_column in df_train.columns:\n",
    "    temp =df_train[each_column].isna().sum()\n",
    "    if temp/len(df_train)*100>50:\n",
    "        print(each_column,\"=> total nan values : \", temp, \" percentage of nan values : \", temp/len(df_train)*100)\n",
    "        columns_to_drop.append(each_column)"
   ]
  },
  {
   "cell_type": "code",
   "execution_count": 18,
   "metadata": {},
   "outputs": [
    {
     "data": {
      "text/plain": [
       "((60000, 163), (16000, 163))"
      ]
     },
     "execution_count": 18,
     "metadata": {},
     "output_type": "execute_result"
    }
   ],
   "source": [
    "#dropping the columns which all are having nan values greater than 50%\n",
    "df_train = df_train.drop(columns_to_drop, 1)\n",
    "\n",
    "#dropping the same columns from test data\n",
    "df_test = df_test.drop(columns_to_drop, 1)\n",
    "\n",
    "#new shape after dropping columns\n",
    "df_train.shape, df_test.shape"
   ]
  },
  {
   "cell_type": "code",
   "execution_count": 19,
   "metadata": {},
   "outputs": [
    {
     "data": {
      "text/html": [
       "<div>\n",
       "<style scoped>\n",
       "    .dataframe tbody tr th:only-of-type {\n",
       "        vertical-align: middle;\n",
       "    }\n",
       "\n",
       "    .dataframe tbody tr th {\n",
       "        vertical-align: top;\n",
       "    }\n",
       "\n",
       "    .dataframe thead th {\n",
       "        text-align: right;\n",
       "    }\n",
       "</style>\n",
       "<table border=\"1\" class=\"dataframe\">\n",
       "  <thead>\n",
       "    <tr style=\"text-align: right;\">\n",
       "      <th></th>\n",
       "      <th>class</th>\n",
       "      <th>aa_000</th>\n",
       "      <th>ac_000</th>\n",
       "      <th>ad_000</th>\n",
       "      <th>ae_000</th>\n",
       "      <th>af_000</th>\n",
       "      <th>ag_000</th>\n",
       "      <th>ag_001</th>\n",
       "      <th>ag_002</th>\n",
       "      <th>ag_003</th>\n",
       "      <th>...</th>\n",
       "      <th>ee_002</th>\n",
       "      <th>ee_003</th>\n",
       "      <th>ee_004</th>\n",
       "      <th>ee_005</th>\n",
       "      <th>ee_006</th>\n",
       "      <th>ee_007</th>\n",
       "      <th>ee_008</th>\n",
       "      <th>ee_009</th>\n",
       "      <th>ef_000</th>\n",
       "      <th>eg_000</th>\n",
       "    </tr>\n",
       "  </thead>\n",
       "  <tbody>\n",
       "    <tr>\n",
       "      <th>0</th>\n",
       "      <td>0</td>\n",
       "      <td>76698</td>\n",
       "      <td>2130706438</td>\n",
       "      <td>280</td>\n",
       "      <td>0</td>\n",
       "      <td>0</td>\n",
       "      <td>0</td>\n",
       "      <td>0</td>\n",
       "      <td>0</td>\n",
       "      <td>0</td>\n",
       "      <td>...</td>\n",
       "      <td>1240520</td>\n",
       "      <td>493384</td>\n",
       "      <td>721044</td>\n",
       "      <td>469792</td>\n",
       "      <td>339156</td>\n",
       "      <td>157956</td>\n",
       "      <td>73224</td>\n",
       "      <td>0</td>\n",
       "      <td>0</td>\n",
       "      <td>0</td>\n",
       "    </tr>\n",
       "    <tr>\n",
       "      <th>1</th>\n",
       "      <td>0</td>\n",
       "      <td>33058</td>\n",
       "      <td>0</td>\n",
       "      <td>NaN</td>\n",
       "      <td>0</td>\n",
       "      <td>0</td>\n",
       "      <td>0</td>\n",
       "      <td>0</td>\n",
       "      <td>0</td>\n",
       "      <td>0</td>\n",
       "      <td>...</td>\n",
       "      <td>421400</td>\n",
       "      <td>178064</td>\n",
       "      <td>293306</td>\n",
       "      <td>245416</td>\n",
       "      <td>133654</td>\n",
       "      <td>81140</td>\n",
       "      <td>97576</td>\n",
       "      <td>1500</td>\n",
       "      <td>0</td>\n",
       "      <td>0</td>\n",
       "    </tr>\n",
       "    <tr>\n",
       "      <th>2</th>\n",
       "      <td>0</td>\n",
       "      <td>41040</td>\n",
       "      <td>228</td>\n",
       "      <td>100</td>\n",
       "      <td>0</td>\n",
       "      <td>0</td>\n",
       "      <td>0</td>\n",
       "      <td>0</td>\n",
       "      <td>0</td>\n",
       "      <td>0</td>\n",
       "      <td>...</td>\n",
       "      <td>277378</td>\n",
       "      <td>159812</td>\n",
       "      <td>423992</td>\n",
       "      <td>409564</td>\n",
       "      <td>320746</td>\n",
       "      <td>158022</td>\n",
       "      <td>95128</td>\n",
       "      <td>514</td>\n",
       "      <td>0</td>\n",
       "      <td>0</td>\n",
       "    </tr>\n",
       "    <tr>\n",
       "      <th>3</th>\n",
       "      <td>0</td>\n",
       "      <td>12</td>\n",
       "      <td>70</td>\n",
       "      <td>66</td>\n",
       "      <td>0</td>\n",
       "      <td>10</td>\n",
       "      <td>0</td>\n",
       "      <td>0</td>\n",
       "      <td>0</td>\n",
       "      <td>318</td>\n",
       "      <td>...</td>\n",
       "      <td>240</td>\n",
       "      <td>46</td>\n",
       "      <td>58</td>\n",
       "      <td>44</td>\n",
       "      <td>10</td>\n",
       "      <td>0</td>\n",
       "      <td>0</td>\n",
       "      <td>0</td>\n",
       "      <td>4</td>\n",
       "      <td>32</td>\n",
       "    </tr>\n",
       "    <tr>\n",
       "      <th>4</th>\n",
       "      <td>0</td>\n",
       "      <td>60874</td>\n",
       "      <td>1368</td>\n",
       "      <td>458</td>\n",
       "      <td>0</td>\n",
       "      <td>0</td>\n",
       "      <td>0</td>\n",
       "      <td>0</td>\n",
       "      <td>0</td>\n",
       "      <td>0</td>\n",
       "      <td>...</td>\n",
       "      <td>622012</td>\n",
       "      <td>229790</td>\n",
       "      <td>405298</td>\n",
       "      <td>347188</td>\n",
       "      <td>286954</td>\n",
       "      <td>311560</td>\n",
       "      <td>433954</td>\n",
       "      <td>1218</td>\n",
       "      <td>0</td>\n",
       "      <td>0</td>\n",
       "    </tr>\n",
       "  </tbody>\n",
       "</table>\n",
       "<p>5 rows × 163 columns</p>\n",
       "</div>"
      ],
      "text/plain": [
       "   class  aa_000      ac_000 ad_000 ae_000 af_000 ag_000 ag_001 ag_002 ag_003  \\\n",
       "0      0   76698  2130706438    280      0      0      0      0      0      0   \n",
       "1      0   33058           0    NaN      0      0      0      0      0      0   \n",
       "2      0   41040         228    100      0      0      0      0      0      0   \n",
       "3      0      12          70     66      0     10      0      0      0    318   \n",
       "4      0   60874        1368    458      0      0      0      0      0      0   \n",
       "\n",
       "   ...   ee_002  ee_003  ee_004  ee_005  ee_006  ee_007  ee_008 ee_009 ef_000  \\\n",
       "0  ...  1240520  493384  721044  469792  339156  157956   73224      0      0   \n",
       "1  ...   421400  178064  293306  245416  133654   81140   97576   1500      0   \n",
       "2  ...   277378  159812  423992  409564  320746  158022   95128    514      0   \n",
       "3  ...      240      46      58      44      10       0       0      0      4   \n",
       "4  ...   622012  229790  405298  347188  286954  311560  433954   1218      0   \n",
       "\n",
       "  eg_000  \n",
       "0      0  \n",
       "1      0  \n",
       "2      0  \n",
       "3     32  \n",
       "4      0  \n",
       "\n",
       "[5 rows x 163 columns]"
      ]
     },
     "execution_count": 19,
     "metadata": {},
     "output_type": "execute_result"
    }
   ],
   "source": [
    "#Encoding the label class\n",
    "df_train['class'] = df_train[\"class\"].map({'neg':0, 'pos':1})\n",
    "df_test['class'] = df_test[\"class\"].map({'neg':0, 'pos':1})\n",
    "df_train.head()"
   ]
  },
  {
   "cell_type": "code",
   "execution_count": 20,
   "metadata": {},
   "outputs": [
    {
     "data": {
      "text/html": [
       "<div>\n",
       "<style scoped>\n",
       "    .dataframe tbody tr th:only-of-type {\n",
       "        vertical-align: middle;\n",
       "    }\n",
       "\n",
       "    .dataframe tbody tr th {\n",
       "        vertical-align: top;\n",
       "    }\n",
       "\n",
       "    .dataframe thead th {\n",
       "        text-align: right;\n",
       "    }\n",
       "</style>\n",
       "<table border=\"1\" class=\"dataframe\">\n",
       "  <thead>\n",
       "    <tr style=\"text-align: right;\">\n",
       "      <th></th>\n",
       "      <th>aa_000</th>\n",
       "      <th>ac_000</th>\n",
       "      <th>ad_000</th>\n",
       "      <th>ae_000</th>\n",
       "      <th>af_000</th>\n",
       "      <th>ag_000</th>\n",
       "      <th>ag_001</th>\n",
       "      <th>ag_002</th>\n",
       "      <th>ag_003</th>\n",
       "      <th>ag_004</th>\n",
       "      <th>...</th>\n",
       "      <th>ee_002</th>\n",
       "      <th>ee_003</th>\n",
       "      <th>ee_004</th>\n",
       "      <th>ee_005</th>\n",
       "      <th>ee_006</th>\n",
       "      <th>ee_007</th>\n",
       "      <th>ee_008</th>\n",
       "      <th>ee_009</th>\n",
       "      <th>ef_000</th>\n",
       "      <th>eg_000</th>\n",
       "    </tr>\n",
       "  </thead>\n",
       "  <tbody>\n",
       "    <tr>\n",
       "      <th>0</th>\n",
       "      <td>60</td>\n",
       "      <td>20</td>\n",
       "      <td>12</td>\n",
       "      <td>0</td>\n",
       "      <td>0</td>\n",
       "      <td>0</td>\n",
       "      <td>0</td>\n",
       "      <td>0</td>\n",
       "      <td>2682</td>\n",
       "      <td>4736</td>\n",
       "      <td>...</td>\n",
       "      <td>1098</td>\n",
       "      <td>138</td>\n",
       "      <td>412</td>\n",
       "      <td>654</td>\n",
       "      <td>78</td>\n",
       "      <td>88</td>\n",
       "      <td>0</td>\n",
       "      <td>0</td>\n",
       "      <td>0</td>\n",
       "      <td>0</td>\n",
       "    </tr>\n",
       "    <tr>\n",
       "      <th>1</th>\n",
       "      <td>82</td>\n",
       "      <td>68</td>\n",
       "      <td>40</td>\n",
       "      <td>0</td>\n",
       "      <td>0</td>\n",
       "      <td>0</td>\n",
       "      <td>0</td>\n",
       "      <td>0</td>\n",
       "      <td>0</td>\n",
       "      <td>748</td>\n",
       "      <td>...</td>\n",
       "      <td>1068</td>\n",
       "      <td>276</td>\n",
       "      <td>1620</td>\n",
       "      <td>116</td>\n",
       "      <td>86</td>\n",
       "      <td>462</td>\n",
       "      <td>0</td>\n",
       "      <td>0</td>\n",
       "      <td>0</td>\n",
       "      <td>0</td>\n",
       "    </tr>\n",
       "  </tbody>\n",
       "</table>\n",
       "<p>2 rows × 162 columns</p>\n",
       "</div>"
      ],
      "text/plain": [
       "   aa_000 ac_000 ad_000 ae_000 af_000 ag_000 ag_001 ag_002 ag_003 ag_004  ...  \\\n",
       "0      60     20     12      0      0      0      0      0   2682   4736  ...   \n",
       "1      82     68     40      0      0      0      0      0      0    748  ...   \n",
       "\n",
       "  ee_002 ee_003 ee_004 ee_005 ee_006 ee_007 ee_008 ee_009 ef_000 eg_000  \n",
       "0   1098    138    412    654     78     88      0      0      0      0  \n",
       "1   1068    276   1620    116     86    462      0      0      0      0  \n",
       "\n",
       "[2 rows x 162 columns]"
      ]
     },
     "execution_count": 20,
     "metadata": {},
     "output_type": "execute_result"
    }
   ],
   "source": [
    "#removing the class label from training dataset\n",
    "training_labels = list(df_train['class'])\n",
    "training_data = df_train.drop('class', axis=1)\n",
    "training_data.head(2)\n",
    "\n",
    "#removing the class label from tesing dataset\n",
    "testing_labels = list(df_test['class'])\n",
    "testing_data = df_test.drop('class', axis=1)\n",
    "testing_data.head(2)"
   ]
  },
  {
   "cell_type": "markdown",
   "metadata": {},
   "source": [
    "### Imputing the data with median"
   ]
  },
  {
   "cell_type": "code",
   "execution_count": 21,
   "metadata": {},
   "outputs": [],
   "source": [
    "# Imputation : Filling the missing values in data with median\n",
    "imputing_with_median = SimpleImputer(strategy='median')\n",
    "imputing_with_median.fit(training_data.values)\n",
    "imputed_training_data_with_median = imputing_with_median.transform(training_data.values) #training data \n",
    "imputed_testing_data_with_median = imputing_with_median.transform(testing_data.values) #testing data"
   ]
  },
  {
   "cell_type": "code",
   "execution_count": 22,
   "metadata": {},
   "outputs": [],
   "source": [
    "#for noise experiments\n",
    "#creating dataframe from the imputed matrix with labels\n",
    "imputed_df_train_copy = pd.DataFrame(imputed_training_data_with_median, columns=training_data.columns)\n",
    "imputed_df_train_copy['class'] = training_labels\n",
    "\n",
    "imputed_df_test_copy = pd.DataFrame(imputed_testing_data_with_median, columns=training_data.columns)\n",
    "imputed_df_test_copy['class'] = testing_labels"
   ]
  },
  {
   "cell_type": "code",
   "execution_count": 23,
   "metadata": {},
   "outputs": [],
   "source": [
    "#creating dataframe from the imputed matrix\n",
    "imputed_df_train = pd.DataFrame(imputed_training_data_with_median, columns=training_data.columns)\n",
    "imputed_df_test = pd.DataFrame(imputed_testing_data_with_median, columns=testing_data.columns)"
   ]
  },
  {
   "cell_type": "markdown",
   "metadata": {},
   "source": [
    "### Removing Correlated Features"
   ]
  },
  {
   "cell_type": "code",
   "execution_count": 24,
   "metadata": {},
   "outputs": [
    {
     "name": "stdout",
     "output_type": "stream",
     "text": [
      "features to drop from trainig and testing data :\n",
      "['am_0', 'an_000', 'ao_000', 'aq_000', 'ba_001', 'ba_002', 'ba_003', 'ba_004', 'ba_005', 'ba_006', 'bb_000', 'bg_000', 'bh_000', 'bi_000', 'bj_000', 'bt_000', 'bu_000', 'bv_000', 'by_000', 'cc_000', 'cf_000', 'ci_000', 'cn_004', 'cn_005', 'co_000', 'cq_000', 'cs_005', 'dc_000', 'dn_000', 'dp_000', 'dt_000', 'ed_000', 'ee_000', 'ee_001', 'ee_002', 'ee_003', 'ee_004']\n"
     ]
    }
   ],
   "source": [
    "#identifying the features which has high correlation and eliminate the features\n",
    "co_matrix = imputed_df_train.corr().abs()\n",
    "shp_ = co_matrix.shape\n",
    "\n",
    "mn = np.ones(shp_)\n",
    "top = co_matrix.where(np.triu(mn, k=1).astype(np.bool))\n",
    "drop_features = [col for col in top.columns if any(top[col] > 0.90)]\n",
    "print(\"features to drop from trainig and testing data :\")\n",
    "print(drop_features)"
   ]
  },
  {
   "cell_type": "code",
   "execution_count": 25,
   "metadata": {},
   "outputs": [],
   "source": [
    "#removing the features with high correlation from both train and test dataset\n",
    "imputed_df_train.drop(drop_features, axis=1, inplace=True)\n",
    "imputed_df_test.drop(drop_features, axis=1, inplace=True)"
   ]
  },
  {
   "cell_type": "markdown",
   "metadata": {},
   "source": [
    "### Removing 0 Variance Features"
   ]
  },
  {
   "cell_type": "code",
   "execution_count": 26,
   "metadata": {},
   "outputs": [],
   "source": [
    "imputed_df_train.drop(list(imputed_df_train.std()[imputed_df_train.std() == 0].keys()), axis = 1, inplace = True)\n",
    "imputed_df_test.drop(list(imputed_df_test.std()[imputed_df_test.std() == 0].keys()), axis = 1, inplace = True)"
   ]
  },
  {
   "cell_type": "markdown",
   "metadata": {},
   "source": [
    "### Normalize"
   ]
  },
  {
   "cell_type": "code",
   "execution_count": 27,
   "metadata": {},
   "outputs": [],
   "source": [
    "nn = Normalizer()\n",
    "\n",
    "normalised_df_train = nn.fit_transform(imputed_df_train)\n",
    "normalised_df_test = nn.transform(imputed_df_test)"
   ]
  },
  {
   "cell_type": "markdown",
   "metadata": {},
   "source": [
    "# <center> BASELINE </center>"
   ]
  },
  {
   "cell_type": "code",
   "execution_count": 28,
   "metadata": {},
   "outputs": [],
   "source": [
    "model_list = []\n",
    "training_f1_list = []\n",
    "testing_f1_list = []\n",
    "\n",
    "training_precision_list = []\n",
    "testing_precision_list = []\n",
    "\n",
    "training_recall_list = []\n",
    "testing_recall_list = []\n",
    "\n",
    "train_cost_list = []\n",
    "test_cost_list = []"
   ]
  },
  {
   "cell_type": "markdown",
   "metadata": {},
   "source": [
    "### KNN"
   ]
  },
  {
   "cell_type": "code",
   "execution_count": 29,
   "metadata": {},
   "outputs": [
    {
     "data": {
      "text/plain": [
       "KNeighborsClassifier(n_jobs=-1)"
      ]
     },
     "execution_count": 29,
     "metadata": {},
     "output_type": "execute_result"
    }
   ],
   "source": [
    "knn = KNeighborsClassifier(n_neighbors=5, n_jobs=-1)\n",
    "knn.fit(normalised_df_train, training_labels)"
   ]
  },
  {
   "cell_type": "code",
   "execution_count": 30,
   "metadata": {},
   "outputs": [],
   "source": [
    "model_list.append('KNN')"
   ]
  },
  {
   "cell_type": "code",
   "execution_count": 31,
   "metadata": {},
   "outputs": [],
   "source": [
    "knn_train_pred = knn.predict(normalised_df_train)\n",
    "knn_test_pred = knn.predict(normalised_df_test)"
   ]
  },
  {
   "cell_type": "code",
   "execution_count": 32,
   "metadata": {},
   "outputs": [
    {
     "data": {
      "image/png": "[encoded data removed]",
      "text/plain": [
       "<Figure size 360x360 with 1 Axes>"
      ]
     },
     "metadata": {
      "needs_background": "light"
     },
     "output_type": "display_data"
    },
    {
     "name": "stdout",
     "output_type": "stream",
     "text": [
      "   True_negatives  False_positives  False_negatives  True_positives\n",
      "0           58897              103              488             512\n",
      "Cost is : 245030\n"
     ]
    }
   ],
   "source": [
    "knn_cost_train, prec_knn_train, rec_knn_train, f1_knn_train = result_analysis(training_labels, knn_train_pred)"
   ]
  },
  {
   "cell_type": "code",
   "execution_count": 33,
   "metadata": {},
   "outputs": [],
   "source": [
    "training_f1_list.append(f1_knn_train)\n",
    "training_precision_list.append(prec_knn_train)\n",
    "training_recall_list.append(rec_knn_train)"
   ]
  },
  {
   "cell_type": "code",
   "execution_count": 34,
   "metadata": {},
   "outputs": [
    {
     "data": {
      "image/png": "[encoded data removed]",
      "text/plain": [
       "<Figure size 360x360 with 1 Axes>"
      ]
     },
     "metadata": {
      "needs_background": "light"
     },
     "output_type": "display_data"
    },
    {
     "name": "stdout",
     "output_type": "stream",
     "text": [
      "   True_negatives  False_positives  False_negatives  True_positives\n",
      "0           15592               33              219             156\n",
      "Cost is : 109830\n"
     ]
    }
   ],
   "source": [
    "knn_cost_test, prec_knn_test, rec_knn_test, f1_knn_test = result_analysis(testing_labels, knn_test_pred)"
   ]
  },
  {
   "cell_type": "code",
   "execution_count": 35,
   "metadata": {},
   "outputs": [],
   "source": [
    "testing_f1_list.append(f1_knn_test)\n",
    "testing_precision_list.append(prec_knn_test)\n",
    "testing_recall_list.append(rec_knn_test)"
   ]
  },
  {
   "cell_type": "code",
   "execution_count": 234,
   "metadata": {},
   "outputs": [],
   "source": [
    "train_cost_list.append(knn_cost_train)\n",
    "test_cost_list.append(knn_cost_test)"
   ]
  },
  {
   "cell_type": "markdown",
   "metadata": {},
   "source": [
    "### LR"
   ]
  },
  {
   "cell_type": "code",
   "execution_count": 36,
   "metadata": {},
   "outputs": [
    {
     "data": {
      "text/plain": [
       "SGDClassifier(loss='log', n_jobs=-1)"
      ]
     },
     "execution_count": 36,
     "metadata": {},
     "output_type": "execute_result"
    }
   ],
   "source": [
    "lr = SGDClassifier(loss = 'log', n_jobs=-1)\n",
    "lr.fit(normalised_df_train, training_labels)"
   ]
  },
  {
   "cell_type": "code",
   "execution_count": 37,
   "metadata": {},
   "outputs": [],
   "source": [
    "model_list.append('Logistic Regression')"
   ]
  },
  {
   "cell_type": "code",
   "execution_count": 38,
   "metadata": {},
   "outputs": [],
   "source": [
    "lr_train_pred = lr.predict(normalised_df_train)\n",
    "lr_test_pred = lr.predict(normalised_df_test)"
   ]
  },
  {
   "cell_type": "code",
   "execution_count": 39,
   "metadata": {},
   "outputs": [
    {
     "data": {
      "image/png": "[encoded data removed]",
      "text/plain": [
       "<Figure size 360x360 with 1 Axes>"
      ]
     },
     "metadata": {
      "needs_background": "light"
     },
     "output_type": "display_data"
    },
    {
     "name": "stdout",
     "output_type": "stream",
     "text": [
      "   True_negatives  False_positives  False_negatives  True_positives\n",
      "0           58989               11              946              54\n",
      "Cost is : 473110\n"
     ]
    }
   ],
   "source": [
    "lr_cost_train, prec_lr_train, rec_lr_train, f1_lr_train = result_analysis(training_labels, lr_train_pred)"
   ]
  },
  {
   "cell_type": "code",
   "execution_count": 40,
   "metadata": {},
   "outputs": [],
   "source": [
    "training_f1_list.append(f1_lr_train)\n",
    "training_precision_list.append(prec_lr_train)\n",
    "training_recall_list.append(rec_lr_train)"
   ]
  },
  {
   "cell_type": "code",
   "execution_count": 41,
   "metadata": {},
   "outputs": [
    {
     "data": {
      "image/png": "[encoded data removed]",
      "text/plain": [
       "<Figure size 360x360 with 1 Axes>"
      ]
     },
     "metadata": {
      "needs_background": "light"
     },
     "output_type": "display_data"
    },
    {
     "name": "stdout",
     "output_type": "stream",
     "text": [
      "   True_negatives  False_positives  False_negatives  True_positives\n",
      "0           15623                2              350              25\n",
      "Cost is : 175020\n"
     ]
    }
   ],
   "source": [
    "lr_cost_test, prec_lr_test, rec_lr_test, f1_lr_test = result_analysis(testing_labels, lr_test_pred)"
   ]
  },
  {
   "cell_type": "code",
   "execution_count": 42,
   "metadata": {},
   "outputs": [],
   "source": [
    "testing_f1_list.append(f1_lr_test)\n",
    "testing_precision_list.append(prec_lr_test)\n",
    "testing_recall_list.append(rec_lr_test)"
   ]
  },
  {
   "cell_type": "code",
   "execution_count": 235,
   "metadata": {},
   "outputs": [],
   "source": [
    "train_cost_list.append(lr_cost_train)\n",
    "test_cost_list.append(lr_cost_test)"
   ]
  },
  {
   "cell_type": "markdown",
   "metadata": {},
   "source": [
    "### SVM"
   ]
  },
  {
   "cell_type": "code",
   "execution_count": 43,
   "metadata": {},
   "outputs": [
    {
     "data": {
      "text/plain": [
       "SGDClassifier(n_jobs=-1)"
      ]
     },
     "execution_count": 43,
     "metadata": {},
     "output_type": "execute_result"
    }
   ],
   "source": [
    "sv = SGDClassifier(loss = 'hinge', n_jobs=-1)\n",
    "sv.fit(normalised_df_train, training_labels)"
   ]
  },
  {
   "cell_type": "code",
   "execution_count": 44,
   "metadata": {},
   "outputs": [],
   "source": [
    "model_list.append('SVM')"
   ]
  },
  {
   "cell_type": "code",
   "execution_count": 45,
   "metadata": {},
   "outputs": [],
   "source": [
    "sv_train_pred = sv.predict(normalised_df_train)\n",
    "sv_test_pred = sv.predict(normalised_df_test)"
   ]
  },
  {
   "cell_type": "code",
   "execution_count": 46,
   "metadata": {},
   "outputs": [
    {
     "data": {
      "image/png": "[encoded data removed]",
      "text/plain": [
       "<Figure size 360x360 with 1 Axes>"
      ]
     },
     "metadata": {
      "needs_background": "light"
     },
     "output_type": "display_data"
    },
    {
     "name": "stdout",
     "output_type": "stream",
     "text": [
      "   True_negatives  False_positives  False_negatives  True_positives\n",
      "0           59000                0             1000               0\n",
      "Cost is : 500000\n"
     ]
    },
    {
     "name": "stderr",
     "output_type": "stream",
     "text": [
      "D:\\Anaconda\\envs\\py3-TF2.0\\lib\\site-packages\\sklearn\\metrics\\_classification.py:1245: UndefinedMetricWarning: Precision and F-score are ill-defined and being set to 0.0 in labels with no predicted samples. Use `zero_division` parameter to control this behavior.\n",
      "  _warn_prf(average, modifier, msg_start, len(result))\n"
     ]
    }
   ],
   "source": [
    "sv_cost_train, prec_sv_train, rec_sv_train, f1_sv_train = result_analysis(training_labels, sv_train_pred)"
   ]
  },
  {
   "cell_type": "code",
   "execution_count": 47,
   "metadata": {},
   "outputs": [],
   "source": [
    "training_f1_list.append(f1_sv_train)\n",
    "training_precision_list.append(prec_sv_train)\n",
    "training_recall_list.append(rec_sv_train)"
   ]
  },
  {
   "cell_type": "code",
   "execution_count": 48,
   "metadata": {},
   "outputs": [
    {
     "data": {
      "image/png": "[encoded data removed]",
      "text/plain": [
       "<Figure size 360x360 with 1 Axes>"
      ]
     },
     "metadata": {
      "needs_background": "light"
     },
     "output_type": "display_data"
    },
    {
     "name": "stdout",
     "output_type": "stream",
     "text": [
      "   True_negatives  False_positives  False_negatives  True_positives\n",
      "0           15625                0              375               0\n",
      "Cost is : 187500\n"
     ]
    },
    {
     "name": "stderr",
     "output_type": "stream",
     "text": [
      "D:\\Anaconda\\envs\\py3-TF2.0\\lib\\site-packages\\sklearn\\metrics\\_classification.py:1245: UndefinedMetricWarning: Precision and F-score are ill-defined and being set to 0.0 in labels with no predicted samples. Use `zero_division` parameter to control this behavior.\n",
      "  _warn_prf(average, modifier, msg_start, len(result))\n"
     ]
    }
   ],
   "source": [
    "sv_cost_test, prec_sv_test, rec_sv_test, f1_sv_test = result_analysis(testing_labels, sv_test_pred)"
   ]
  },
  {
   "cell_type": "code",
   "execution_count": 49,
   "metadata": {},
   "outputs": [],
   "source": [
    "testing_f1_list.append(f1_sv_test)\n",
    "testing_precision_list.append(prec_sv_test)\n",
    "testing_recall_list.append(rec_sv_test)"
   ]
  },
  {
   "cell_type": "code",
   "execution_count": 236,
   "metadata": {},
   "outputs": [],
   "source": [
    "train_cost_list.append(sv_cost_train)\n",
    "test_cost_list.append(sv_cost_test)"
   ]
  },
  {
   "cell_type": "markdown",
   "metadata": {},
   "source": [
    "### Naive Bayes"
   ]
  },
  {
   "cell_type": "code",
   "execution_count": 50,
   "metadata": {},
   "outputs": [
    {
     "data": {
      "text/plain": [
       "GaussianNB()"
      ]
     },
     "execution_count": 50,
     "metadata": {},
     "output_type": "execute_result"
    }
   ],
   "source": [
    "nb = GaussianNB()\n",
    "nb.fit(normalised_df_train, training_labels)"
   ]
  },
  {
   "cell_type": "code",
   "execution_count": 51,
   "metadata": {},
   "outputs": [],
   "source": [
    "model_list.append('Naive Bayes')"
   ]
  },
  {
   "cell_type": "code",
   "execution_count": 52,
   "metadata": {},
   "outputs": [],
   "source": [
    "nb_train_pred = nb.predict(normalised_df_train)\n",
    "nb_test_pred = nb.predict(normalised_df_test)"
   ]
  },
  {
   "cell_type": "code",
   "execution_count": 53,
   "metadata": {},
   "outputs": [
    {
     "data": {
      "image/png": "[encoded data removed]",
      "text/plain": [
       "<Figure size 360x360 with 1 Axes>"
      ]
     },
     "metadata": {
      "needs_background": "light"
     },
     "output_type": "display_data"
    },
    {
     "name": "stdout",
     "output_type": "stream",
     "text": [
      "   True_negatives  False_positives  False_negatives  True_positives\n",
      "0           53464             5536              164             836\n",
      "Cost is : 137360\n"
     ]
    }
   ],
   "source": [
    "nb_cost_train, prec_nb_train, rec_nb_train, f1_nb_train = result_analysis(training_labels, nb_train_pred)"
   ]
  },
  {
   "cell_type": "code",
   "execution_count": 54,
   "metadata": {},
   "outputs": [],
   "source": [
    "training_f1_list.append(f1_nb_train)\n",
    "training_precision_list.append(prec_nb_train)\n",
    "training_recall_list.append(rec_nb_train)"
   ]
  },
  {
   "cell_type": "code",
   "execution_count": 55,
   "metadata": {},
   "outputs": [
    {
     "data": {
      "image/png": "[encoded data removed]",
      "text/plain": [
       "<Figure size 360x360 with 1 Axes>"
      ]
     },
     "metadata": {
      "needs_background": "light"
     },
     "output_type": "display_data"
    },
    {
     "name": "stdout",
     "output_type": "stream",
     "text": [
      "   True_negatives  False_positives  False_negatives  True_positives\n",
      "0           14165             1460               59             316\n",
      "Cost is : 44100\n"
     ]
    }
   ],
   "source": [
    "nb_cost_test, prec_nb_test, rec_nb_test, f1_nb_test = result_analysis(testing_labels, nb_test_pred)"
   ]
  },
  {
   "cell_type": "code",
   "execution_count": 56,
   "metadata": {},
   "outputs": [],
   "source": [
    "testing_f1_list.append(f1_nb_test)\n",
    "testing_precision_list.append(prec_nb_test)\n",
    "testing_recall_list.append(rec_nb_test)"
   ]
  },
  {
   "cell_type": "code",
   "execution_count": 237,
   "metadata": {},
   "outputs": [],
   "source": [
    "train_cost_list.append(nb_cost_train)\n",
    "test_cost_list.append(nb_cost_test)"
   ]
  },
  {
   "cell_type": "markdown",
   "metadata": {},
   "source": [
    "### Random Forest"
   ]
  },
  {
   "cell_type": "code",
   "execution_count": 246,
   "metadata": {},
   "outputs": [
    {
     "data": {
      "text/plain": [
       "RandomForestClassifier(n_jobs=-1)"
      ]
     },
     "execution_count": 246,
     "metadata": {},
     "output_type": "execute_result"
    }
   ],
   "source": [
    "rf = RandomForestClassifier(n_jobs=-1)\n",
    "rf.fit(normalised_df_train, training_labels)"
   ]
  },
  {
   "cell_type": "code",
   "execution_count": 58,
   "metadata": {},
   "outputs": [],
   "source": [
    "model_list.append('Random Forest')"
   ]
  },
  {
   "cell_type": "code",
   "execution_count": 247,
   "metadata": {},
   "outputs": [],
   "source": [
    "rf_train_pred = rf.predict(normalised_df_train)\n",
    "rf_test_pred = rf.predict(normalised_df_test)"
   ]
  },
  {
   "cell_type": "code",
   "execution_count": 248,
   "metadata": {},
   "outputs": [
    {
     "data": {
      "image/png": "[encoded data removed]",
      "text/plain": [
       "<Figure size 360x360 with 1 Axes>"
      ]
     },
     "metadata": {
      "needs_background": "light"
     },
     "output_type": "display_data"
    },
    {
     "name": "stdout",
     "output_type": "stream",
     "text": [
      "   True_negatives  False_positives  False_negatives  True_positives\n",
      "0           59000                0                0            1000\n",
      "Cost is : 0\n"
     ]
    }
   ],
   "source": [
    "rf_cost_train, prec_rf_train, rec_rf_train, f1_rf_train = result_analysis(training_labels, rf_train_pred)"
   ]
  },
  {
   "cell_type": "code",
   "execution_count": 249,
   "metadata": {},
   "outputs": [],
   "source": [
    "training_f1_list.append(f1_rf_train)\n",
    "training_precision_list.append(prec_rf_train)\n",
    "training_recall_list.append(rec_rf_train)"
   ]
  },
  {
   "cell_type": "code",
   "execution_count": 250,
   "metadata": {},
   "outputs": [
    {
     "data": {
      "image/png": "[encoded data removed]",
      "text/plain": [
       "<Figure size 360x360 with 1 Axes>"
      ]
     },
     "metadata": {
      "needs_background": "light"
     },
     "output_type": "display_data"
    },
    {
     "name": "stdout",
     "output_type": "stream",
     "text": [
      "   True_negatives  False_positives  False_negatives  True_positives\n",
      "0           15610               15              144             231\n",
      "Cost is : 72150\n"
     ]
    }
   ],
   "source": [
    "rf_cost_test, prec_rf_test, rec_rf_test, f1_rf_test = result_analysis(testing_labels, rf_test_pred)"
   ]
  },
  {
   "cell_type": "code",
   "execution_count": 251,
   "metadata": {},
   "outputs": [],
   "source": [
    "testing_f1_list.append(f1_rf_test)\n",
    "testing_precision_list.append(prec_rf_test)\n",
    "testing_recall_list.append(rec_rf_test)"
   ]
  },
  {
   "cell_type": "code",
   "execution_count": 252,
   "metadata": {},
   "outputs": [],
   "source": [
    "train_cost_list.append(rf_cost_train)\n",
    "test_cost_list.append(rf_cost_test)"
   ]
  },
  {
   "cell_type": "code",
   "execution_count": 253,
   "metadata": {},
   "outputs": [],
   "source": [
    "baseline_models_train = pd.DataFrame()\n",
    "baseline_models_test = pd.DataFrame()"
   ]
  },
  {
   "cell_type": "code",
   "execution_count": 254,
   "metadata": {},
   "outputs": [
    {
     "data": {
      "text/html": [
       "<div>\n",
       "<style scoped>\n",
       "    .dataframe tbody tr th:only-of-type {\n",
       "        vertical-align: middle;\n",
       "    }\n",
       "\n",
       "    .dataframe tbody tr th {\n",
       "        vertical-align: top;\n",
       "    }\n",
       "\n",
       "    .dataframe thead th {\n",
       "        text-align: right;\n",
       "    }\n",
       "</style>\n",
       "<table border=\"1\" class=\"dataframe\">\n",
       "  <thead>\n",
       "    <tr style=\"text-align: right;\">\n",
       "      <th></th>\n",
       "      <th>Model</th>\n",
       "      <th>Precision</th>\n",
       "      <th>Recall</th>\n",
       "      <th>F1_Score</th>\n",
       "      <th>Cost</th>\n",
       "    </tr>\n",
       "  </thead>\n",
       "  <tbody>\n",
       "    <tr>\n",
       "      <th>0</th>\n",
       "      <td>KNN</td>\n",
       "      <td>0.832520</td>\n",
       "      <td>0.512</td>\n",
       "      <td>0.634056</td>\n",
       "      <td>245030</td>\n",
       "    </tr>\n",
       "    <tr>\n",
       "      <th>1</th>\n",
       "      <td>Logistic Regression</td>\n",
       "      <td>0.830769</td>\n",
       "      <td>0.054</td>\n",
       "      <td>0.101408</td>\n",
       "      <td>473110</td>\n",
       "    </tr>\n",
       "    <tr>\n",
       "      <th>2</th>\n",
       "      <td>SVM</td>\n",
       "      <td>0.000000</td>\n",
       "      <td>0.000</td>\n",
       "      <td>0.000000</td>\n",
       "      <td>500000</td>\n",
       "    </tr>\n",
       "    <tr>\n",
       "      <th>3</th>\n",
       "      <td>Naive Bayes</td>\n",
       "      <td>0.131199</td>\n",
       "      <td>0.836</td>\n",
       "      <td>0.226804</td>\n",
       "      <td>137360</td>\n",
       "    </tr>\n",
       "    <tr>\n",
       "      <th>4</th>\n",
       "      <td>Random Forest</td>\n",
       "      <td>1.000000</td>\n",
       "      <td>1.000</td>\n",
       "      <td>1.000000</td>\n",
       "      <td>0</td>\n",
       "    </tr>\n",
       "  </tbody>\n",
       "</table>\n",
       "</div>"
      ],
      "text/plain": [
       "                 Model  Precision  Recall  F1_Score    Cost\n",
       "0                  KNN   0.832520   0.512  0.634056  245030\n",
       "1  Logistic Regression   0.830769   0.054  0.101408  473110\n",
       "2                  SVM   0.000000   0.000  0.000000  500000\n",
       "3          Naive Bayes   0.131199   0.836  0.226804  137360\n",
       "4        Random Forest   1.000000   1.000  1.000000       0"
      ]
     },
     "execution_count": 254,
     "metadata": {},
     "output_type": "execute_result"
    }
   ],
   "source": [
    "baseline_models_train['Model'] = model_list\n",
    "baseline_models_train['Precision'] = training_precision_list\n",
    "baseline_models_train['Recall'] = training_recall_list\n",
    "baseline_models_train['F1_Score'] = training_f1_list\n",
    "baseline_models_train['Cost'] = train_cost_list\n",
    "\n",
    "baseline_models_train"
   ]
  },
  {
   "cell_type": "code",
   "execution_count": 255,
   "metadata": {},
   "outputs": [
    {
     "data": {
      "text/html": [
       "<div>\n",
       "<style scoped>\n",
       "    .dataframe tbody tr th:only-of-type {\n",
       "        vertical-align: middle;\n",
       "    }\n",
       "\n",
       "    .dataframe tbody tr th {\n",
       "        vertical-align: top;\n",
       "    }\n",
       "\n",
       "    .dataframe thead th {\n",
       "        text-align: right;\n",
       "    }\n",
       "</style>\n",
       "<table border=\"1\" class=\"dataframe\">\n",
       "  <thead>\n",
       "    <tr style=\"text-align: right;\">\n",
       "      <th></th>\n",
       "      <th>Model</th>\n",
       "      <th>Precision</th>\n",
       "      <th>Recall</th>\n",
       "      <th>F1_Score</th>\n",
       "      <th>Cost</th>\n",
       "    </tr>\n",
       "  </thead>\n",
       "  <tbody>\n",
       "    <tr>\n",
       "      <th>0</th>\n",
       "      <td>KNN</td>\n",
       "      <td>0.825397</td>\n",
       "      <td>0.416000</td>\n",
       "      <td>0.553191</td>\n",
       "      <td>109830</td>\n",
       "    </tr>\n",
       "    <tr>\n",
       "      <th>1</th>\n",
       "      <td>Logistic Regression</td>\n",
       "      <td>0.925926</td>\n",
       "      <td>0.066667</td>\n",
       "      <td>0.124378</td>\n",
       "      <td>175020</td>\n",
       "    </tr>\n",
       "    <tr>\n",
       "      <th>2</th>\n",
       "      <td>SVM</td>\n",
       "      <td>0.000000</td>\n",
       "      <td>0.000000</td>\n",
       "      <td>0.000000</td>\n",
       "      <td>187500</td>\n",
       "    </tr>\n",
       "    <tr>\n",
       "      <th>3</th>\n",
       "      <td>Naive Bayes</td>\n",
       "      <td>0.177928</td>\n",
       "      <td>0.842667</td>\n",
       "      <td>0.293817</td>\n",
       "      <td>44100</td>\n",
       "    </tr>\n",
       "    <tr>\n",
       "      <th>4</th>\n",
       "      <td>Random Forest</td>\n",
       "      <td>0.939024</td>\n",
       "      <td>0.616000</td>\n",
       "      <td>0.743961</td>\n",
       "      <td>72150</td>\n",
       "    </tr>\n",
       "  </tbody>\n",
       "</table>\n",
       "</div>"
      ],
      "text/plain": [
       "                 Model  Precision    Recall  F1_Score    Cost\n",
       "0                  KNN   0.825397  0.416000  0.553191  109830\n",
       "1  Logistic Regression   0.925926  0.066667  0.124378  175020\n",
       "2                  SVM   0.000000  0.000000  0.000000  187500\n",
       "3          Naive Bayes   0.177928  0.842667  0.293817   44100\n",
       "4        Random Forest   0.939024  0.616000  0.743961   72150"
      ]
     },
     "execution_count": 255,
     "metadata": {},
     "output_type": "execute_result"
    }
   ],
   "source": [
    "baseline_models_test['Model'] = model_list\n",
    "baseline_models_test['Precision'] = testing_precision_list\n",
    "baseline_models_test['Recall'] = testing_recall_list\n",
    "baseline_models_test['F1_Score'] = testing_f1_list\n",
    "baseline_models_test['Cost'] = test_cost_list\n",
    "\n",
    "baseline_models_test"
   ]
  },
  {
   "cell_type": "markdown",
   "metadata": {},
   "source": [
    "# <center> SMOTE </center>"
   ]
  },
  {
   "cell_type": "code",
   "execution_count": 156,
   "metadata": {},
   "outputs": [],
   "source": [
    "#Performing over sampling using smote\n",
    "smote_obj = SMOTE(random_state=42)\n",
    "#on actual data\n",
    "x_train_new, y_train_new = smote_obj.fit_resample(normalised_df_train, training_labels)"
   ]
  },
  {
   "cell_type": "code",
   "execution_count": 157,
   "metadata": {},
   "outputs": [],
   "source": [
    "#converting oversampled data to a dataframe\n",
    "smote_train_df = pd.DataFrame(x_train_new, columns=imputed_df_train.columns)"
   ]
  },
  {
   "cell_type": "code",
   "execution_count": 158,
   "metadata": {},
   "outputs": [],
   "source": [
    "normalised_df_test = pd.DataFrame(normalised_df_test, columns=imputed_df_test.columns)"
   ]
  },
  {
   "cell_type": "code",
   "execution_count": 159,
   "metadata": {},
   "outputs": [
    {
     "data": {
      "text/plain": [
       "((118000, 124), (16000, 124))"
      ]
     },
     "execution_count": 159,
     "metadata": {},
     "output_type": "execute_result"
    }
   ],
   "source": [
    "#checking the shape of train and test data\n",
    "smote_train_df.shape, normalised_df_test.shape"
   ]
  },
  {
   "cell_type": "code",
   "execution_count": 160,
   "metadata": {},
   "outputs": [],
   "source": [
    "#after smotting updating the class labels for training\n",
    "training_labels_smote = y_train_new"
   ]
  },
  {
   "cell_type": "markdown",
   "metadata": {},
   "source": [
    "## Training and Comparison of multiple classification models"
   ]
  },
  {
   "cell_type": "markdown",
   "metadata": {},
   "source": [
    "# <center> Random Forest </center>"
   ]
  },
  {
   "cell_type": "code",
   "execution_count": 549,
   "metadata": {},
   "outputs": [],
   "source": [
    "model_list_smote = []\n",
    "\n",
    "training_f1_list_smote = []\n",
    "testing_f1_list_smote = []\n",
    "\n",
    "training_precision_list_smote = []\n",
    "testing_precision_list_smote = []\n",
    "\n",
    "training_recall_list_smote = []\n",
    "testing_recall_list_smote = []\n",
    "\n",
    "cost_list_smote = []"
   ]
  },
  {
   "cell_type": "markdown",
   "metadata": {},
   "source": [
    "#### Training with Random forest classifier"
   ]
  },
  {
   "cell_type": "code",
   "execution_count": 550,
   "metadata": {},
   "outputs": [
    {
     "data": {
      "text/plain": [
       "RandomForestClassifier(min_samples_leaf=3, min_samples_split=10,\n",
       "                       n_estimators=600, n_jobs=-1, random_state=4213)"
      ]
     },
     "execution_count": 550,
     "metadata": {},
     "output_type": "execute_result"
    }
   ],
   "source": [
    "rf = RandomForestClassifier(n_estimators=600, min_samples_split=10, min_samples_leaf=3, n_jobs = -1, random_state = 4213)\n",
    "rf.fit(smote_train_df, training_labels_smote)"
   ]
  },
  {
   "cell_type": "code",
   "execution_count": 551,
   "metadata": {},
   "outputs": [],
   "source": [
    "rf_train_pred = rf.predict_proba(smote_train_df)\n",
    "rf_test_pred = rf.predict_proba(normalised_df_test)"
   ]
  },
  {
   "cell_type": "code",
   "execution_count": 552,
   "metadata": {},
   "outputs": [],
   "source": [
    "test_labels = []\n",
    "\n",
    "for i, j in rf_test_pred:\n",
    "    \n",
    "    if i > 0.85:\n",
    "        test_labels.append(0)\n",
    "    else:\n",
    "        test_labels.append(1)"
   ]
  },
  {
   "cell_type": "code",
   "execution_count": 553,
   "metadata": {},
   "outputs": [
    {
     "data": {
      "image/png": "[encoded data removed]",
      "text/plain": [
       "<Figure size 360x360 with 1 Axes>"
      ]
     },
     "metadata": {
      "needs_background": "light"
     },
     "output_type": "display_data"
    },
    {
     "name": "stdout",
     "output_type": "stream",
     "text": [
      "   True_negatives  False_positives  False_negatives  True_positives\n",
      "0           15072              553               12             363\n",
      "Cost is : 11530\n"
     ]
    }
   ],
   "source": [
    "rf_cost_test_smote, prec_rf_test_smote, rec_rf_test_smote, f1_rf_test_smote = result_analysis(testing_labels, test_labels)"
   ]
  },
  {
   "cell_type": "code",
   "execution_count": 554,
   "metadata": {},
   "outputs": [
    {
     "data": {
      "text/plain": [
       "(0.3962882096069869, 0.5623547637490317, 0.968)"
      ]
     },
     "execution_count": 554,
     "metadata": {},
     "output_type": "execute_result"
    }
   ],
   "source": [
    "prec_rf_test_smote, f1_rf_test_smote, rec_rf_test_smote"
   ]
  },
  {
   "cell_type": "code",
   "execution_count": 228,
   "metadata": {},
   "outputs": [],
   "source": [
    "# #fine tuning Random forest classifier\n",
    "\n",
    "# grid_items = { 'min_samples_leaf': [1, 2, 4],\n",
    "#  'min_samples_split': [2, 5, 10],\n",
    "#  'n_estimators': [200, 400, 600, 800, 1000]}\n",
    "\n",
    "# # Random search of parameters, using 3 fold cross validation, \n",
    "# # search across 100 different combinations, and use all available cores\n",
    "# rf_random = GridSearchCV(estimator = RandomForestClassifier(), param_grid = grid_items, \n",
    "#                                cv = 3, verbose=2, n_jobs = -1)\n",
    "\n",
    "# # Fit the random search model\n",
    "# rf_random.fit(smote_train_df, training_labels_smote)\n",
    "# rf_random.best_params_"
   ]
  },
  {
   "cell_type": "markdown",
   "metadata": {},
   "source": [
    "## <center>Adding Instance Noise</center>\n",
    "### Fixed data variable and different noise range"
   ]
  },
  {
   "cell_type": "code",
   "execution_count": 593,
   "metadata": {},
   "outputs": [],
   "source": [
    "noise_percent = ['1%', '5%', '10%', '15%', '20%']"
   ]
  },
  {
   "cell_type": "code",
   "execution_count": 594,
   "metadata": {},
   "outputs": [],
   "source": [
    "n1_precision_list_noise = []\n",
    "n1_recall_list_noise = []\n",
    "n1_cost_list_noise = []"
   ]
  },
  {
   "cell_type": "code",
   "execution_count": 595,
   "metadata": {},
   "outputs": [],
   "source": [
    "def add_noise(features, labels, noise_amount, normal_noise = 10):\n",
    "    \n",
    "    X_train, X_test, y_train, y_test = train_test_split(features, labels, stratify = labels, test_size=noise_amount,\n",
    "                                                        random_state = 42)\n",
    "    \n",
    "    np.random.seed(seed = 42)\n",
    "    noise = np.random.normal(0, normal_noise, X_test.shape)\n",
    "    \n",
    "    X_test_noise = X_test + noise\n",
    "    \n",
    "    noise_data = pd.concat([X_train, X_test_noise])\n",
    "    \n",
    "    labels = y_train + y_test\n",
    "    \n",
    "    return noise_data, labels"
   ]
  },
  {
   "cell_type": "code",
   "execution_count": 596,
   "metadata": {},
   "outputs": [],
   "source": [
    "def train_rf_model(train, train_lab, test, test_lab, threshold = 0.85):\n",
    "    \n",
    "    rf = RandomForestClassifier(n_estimators=600, min_samples_split=10, min_samples_leaf=3, n_jobs = -1, random_state = 4213)\n",
    "    rf.fit(train, train_lab)\n",
    "    \n",
    "    rf_train_pred = rf.predict_proba(train)\n",
    "    rf_test_pred = rf.predict_proba(test)\n",
    "    \n",
    "    test_labels = []\n",
    "\n",
    "    for i, j in rf_test_pred:\n",
    "\n",
    "        if i > threshold:\n",
    "            test_labels.append(0)\n",
    "        else:\n",
    "            test_labels.append(1)\n",
    "\n",
    "    #result_analysis(testing_labels, test_labels)\n",
    "    \n",
    "    return result_analysis(testing_labels, test_labels)"
   ]
  },
  {
   "cell_type": "markdown",
   "metadata": {},
   "source": [
    "### Adding Noise to 1% data"
   ]
  },
  {
   "cell_type": "code",
   "execution_count": 597,
   "metadata": {},
   "outputs": [],
   "source": [
    "imputed_df_train_noise_1, train_labels_1 = add_noise(imputed_df_train, training_labels, 0.01)"
   ]
  },
  {
   "cell_type": "code",
   "execution_count": 598,
   "metadata": {},
   "outputs": [],
   "source": [
    "nn = Normalizer()\n",
    "\n",
    "normalised_df_train_noise1 = nn.fit_transform(imputed_df_train_noise_1)\n",
    "normalised_df_test_noise1 = nn.transform(imputed_df_test)"
   ]
  },
  {
   "cell_type": "code",
   "execution_count": 599,
   "metadata": {},
   "outputs": [],
   "source": [
    "smote_obj2 = SMOTE(random_state=42)\n",
    "\n",
    "train_smote_noise1, train_smote_labels1 = smote_obj.fit_resample(normalised_df_train_noise1, train_labels_1)"
   ]
  },
  {
   "cell_type": "code",
   "execution_count": 600,
   "metadata": {},
   "outputs": [
    {
     "data": {
      "image/png": "[encoded data removed]",
      "text/plain": [
       "<Figure size 360x360 with 1 Axes>"
      ]
     },
     "metadata": {
      "needs_background": "light"
     },
     "output_type": "display_data"
    },
    {
     "name": "stdout",
     "output_type": "stream",
     "text": [
      "   True_negatives  False_positives  False_negatives  True_positives\n",
      "0           15085              540               13             362\n",
      "Cost is : 11900\n"
     ]
    }
   ],
   "source": [
    "rf_cost_test_noise1, prec_rf_test_noise1, rec_rf_test_noise1, f1_rf_test_noise1 = train_rf_model(train_smote_noise1,\n",
    "                                                                                    train_smote_labels1, normalised_df_test,\n",
    "                                                                                         testing_labels, threshold=0.85)"
   ]
  },
  {
   "cell_type": "code",
   "execution_count": 601,
   "metadata": {},
   "outputs": [],
   "source": [
    "n1_precision_list_noise.append(rf_cost_test_noise1)\n",
    "n1_recall_list_noise.append(rec_rf_test_noise1)\n",
    "n1_cost_list_noise.append(prec_rf_test_noise1)"
   ]
  },
  {
   "cell_type": "markdown",
   "metadata": {},
   "source": [
    "### Adding Noise to 5% data"
   ]
  },
  {
   "cell_type": "code",
   "execution_count": 602,
   "metadata": {},
   "outputs": [],
   "source": [
    "imputed_df_train_noise_5, train_labels_5 = add_noise(imputed_df_train, training_labels, 0.05)"
   ]
  },
  {
   "cell_type": "code",
   "execution_count": 603,
   "metadata": {},
   "outputs": [],
   "source": [
    "nn = Normalizer()\n",
    "\n",
    "normalised_df_train_noise5 = nn.fit_transform(imputed_df_train_noise_5)\n",
    "normalised_df_test_noise5 = nn.transform(imputed_df_test)"
   ]
  },
  {
   "cell_type": "code",
   "execution_count": 604,
   "metadata": {},
   "outputs": [],
   "source": [
    "smote_obj2 = SMOTE(random_state=42)\n",
    "\n",
    "train_smote_noise5, train_smote_labels5 = smote_obj.fit_resample(normalised_df_train_noise5, train_labels_5)"
   ]
  },
  {
   "cell_type": "code",
   "execution_count": 605,
   "metadata": {},
   "outputs": [
    {
     "data": {
      "image/png": "[encoded data removed]",
      "text/plain": [
       "<Figure size 360x360 with 1 Axes>"
      ]
     },
     "metadata": {
      "needs_background": "light"
     },
     "output_type": "display_data"
    },
    {
     "name": "stdout",
     "output_type": "stream",
     "text": [
      "   True_negatives  False_positives  False_negatives  True_positives\n",
      "0           15075              550               13             362\n",
      "Cost is : 12000\n"
     ]
    }
   ],
   "source": [
    "rf_cost_test_noise5, prec_rf_test_noise5, rec_rf_test_noise5, f1_rf_test_noise5 = train_rf_model(train_smote_noise5,\n",
    "                                                                                    train_smote_labels5, normalised_df_test,\n",
    "                                                                                         testing_labels, threshold=0.85)"
   ]
  },
  {
   "cell_type": "code",
   "execution_count": 606,
   "metadata": {},
   "outputs": [],
   "source": [
    "n1_precision_list_noise.append(rf_cost_test_noise5)\n",
    "n1_recall_list_noise.append(rec_rf_test_noise5)\n",
    "n1_cost_list_noise.append(prec_rf_test_noise5)"
   ]
  },
  {
   "cell_type": "markdown",
   "metadata": {},
   "source": [
    "### Adding Noise to 10% data"
   ]
  },
  {
   "cell_type": "code",
   "execution_count": 607,
   "metadata": {},
   "outputs": [],
   "source": [
    "imputed_df_train_noise_10, train_labels_10 = add_noise(imputed_df_train, training_labels, 0.1)"
   ]
  },
  {
   "cell_type": "code",
   "execution_count": 608,
   "metadata": {},
   "outputs": [],
   "source": [
    "nn = Normalizer()\n",
    "\n",
    "normalised_df_train_noise10 = nn.fit_transform(imputed_df_train_noise_10)\n",
    "normalised_df_test_noise10 = nn.transform(imputed_df_test)"
   ]
  },
  {
   "cell_type": "code",
   "execution_count": 609,
   "metadata": {},
   "outputs": [],
   "source": [
    "smote_obj2 = SMOTE(random_state=42)\n",
    "\n",
    "train_smote_noise10, train_smote_labels10 = smote_obj.fit_resample(normalised_df_train_noise10, train_labels_10)"
   ]
  },
  {
   "cell_type": "code",
   "execution_count": 610,
   "metadata": {},
   "outputs": [
    {
     "data": {
      "image/png": "[encoded data removed]",
      "text/plain": [
       "<Figure size 360x360 with 1 Axes>"
      ]
     },
     "metadata": {
      "needs_background": "light"
     },
     "output_type": "display_data"
    },
    {
     "name": "stdout",
     "output_type": "stream",
     "text": [
      "   True_negatives  False_positives  False_negatives  True_positives\n",
      "0           15069              556               13             362\n",
      "Cost is : 12060\n"
     ]
    }
   ],
   "source": [
    "rf_cost_test_noise10, prec_rf_test_noise10, rec_rf_test_noise10, f1_rf_test_noise10 = train_rf_model(train_smote_noise10,\n",
    "                                                                                    train_smote_labels10, normalised_df_test,\n",
    "                                                                                         testing_labels, threshold=0.85)"
   ]
  },
  {
   "cell_type": "code",
   "execution_count": 611,
   "metadata": {},
   "outputs": [],
   "source": [
    "n1_precision_list_noise.append(rf_cost_test_noise10)\n",
    "n1_recall_list_noise.append(rec_rf_test_noise10)\n",
    "n1_cost_list_noise.append(prec_rf_test_noise10)"
   ]
  },
  {
   "cell_type": "markdown",
   "metadata": {},
   "source": [
    "### Adding Noise to 15% data"
   ]
  },
  {
   "cell_type": "code",
   "execution_count": 612,
   "metadata": {},
   "outputs": [],
   "source": [
    "imputed_df_train_noise_15, train_labels_15 = add_noise(imputed_df_train, training_labels, 0.1)"
   ]
  },
  {
   "cell_type": "code",
   "execution_count": 613,
   "metadata": {},
   "outputs": [],
   "source": [
    "nn = Normalizer()\n",
    "\n",
    "normalised_df_train_noise15 = nn.fit_transform(imputed_df_train_noise_15)\n",
    "normalised_df_test_noise15 = nn.transform(imputed_df_test)"
   ]
  },
  {
   "cell_type": "code",
   "execution_count": 614,
   "metadata": {},
   "outputs": [],
   "source": [
    "smote_obj2 = SMOTE(random_state=42)\n",
    "\n",
    "train_smote_noise15, train_smote_labels15 = smote_obj.fit_resample(normalised_df_train_noise15, train_labels_15)"
   ]
  },
  {
   "cell_type": "code",
   "execution_count": 615,
   "metadata": {},
   "outputs": [
    {
     "data": {
      "image/png": "[encoded data removed]",
      "text/plain": [
       "<Figure size 360x360 with 1 Axes>"
      ]
     },
     "metadata": {
      "needs_background": "light"
     },
     "output_type": "display_data"
    },
    {
     "name": "stdout",
     "output_type": "stream",
     "text": [
      "   True_negatives  False_positives  False_negatives  True_positives\n",
      "0           15069              556               13             362\n",
      "Cost is : 12060\n"
     ]
    }
   ],
   "source": [
    "rf_cost_test_noise15, prec_rf_test_noise15, rec_rf_test_noise15, f1_rf_test_noise15 = train_rf_model(train_smote_noise15,\n",
    "                                                                                    train_smote_labels15, normalised_df_test,\n",
    "                                                                                         testing_labels, threshold=0.85)"
   ]
  },
  {
   "cell_type": "code",
   "execution_count": 616,
   "metadata": {},
   "outputs": [],
   "source": [
    "n1_precision_list_noise.append(rf_cost_test_noise15)\n",
    "n1_recall_list_noise.append(rec_rf_test_noise15)\n",
    "n1_cost_list_noise.append(prec_rf_test_noise15)"
   ]
  },
  {
   "cell_type": "markdown",
   "metadata": {},
   "source": [
    "### Adding Noise to 20% data"
   ]
  },
  {
   "cell_type": "code",
   "execution_count": 617,
   "metadata": {},
   "outputs": [],
   "source": [
    "imputed_df_train_noise_20, train_labels_20 = add_noise(imputed_df_train, training_labels, 0.2)"
   ]
  },
  {
   "cell_type": "code",
   "execution_count": 618,
   "metadata": {},
   "outputs": [],
   "source": [
    "nn = Normalizer()\n",
    "\n",
    "normalised_df_train_noise20 = nn.fit_transform(imputed_df_train_noise_20)\n",
    "normalised_df_test_noise20 = nn.transform(imputed_df_test)"
   ]
  },
  {
   "cell_type": "code",
   "execution_count": 619,
   "metadata": {},
   "outputs": [],
   "source": [
    "smote_obj2 = SMOTE(random_state=42)\n",
    "\n",
    "train_smote_noise20, train_smote_labels20 = smote_obj.fit_resample(normalised_df_train_noise20, train_labels_20)"
   ]
  },
  {
   "cell_type": "code",
   "execution_count": 620,
   "metadata": {},
   "outputs": [
    {
     "data": {
      "image/png": "[encoded data removed]",
      "text/plain": [
       "<Figure size 360x360 with 1 Axes>"
      ]
     },
     "metadata": {
      "needs_background": "light"
     },
     "output_type": "display_data"
    },
    {
     "name": "stdout",
     "output_type": "stream",
     "text": [
      "   True_negatives  False_positives  False_negatives  True_positives\n",
      "0           15081              544               12             363\n",
      "Cost is : 11440\n"
     ]
    }
   ],
   "source": [
    "rf_cost_test_noise20, prec_rf_test_noise20, rec_rf_test_noise20, f1_rf_test_noise20 = train_rf_model(train_smote_noise20,\n",
    "                                                                                    train_smote_labels20, normalised_df_test,\n",
    "                                                                                         testing_labels, threshold=0.85)"
   ]
  },
  {
   "cell_type": "code",
   "execution_count": 621,
   "metadata": {},
   "outputs": [],
   "source": [
    "n1_precision_list_noise.append(rf_cost_test_noise20)\n",
    "n1_recall_list_noise.append(rec_rf_test_noise20)\n",
    "n1_cost_list_noise.append(prec_rf_test_noise20)"
   ]
  },
  {
   "cell_type": "code",
   "execution_count": 622,
   "metadata": {
    "scrolled": true
   },
   "outputs": [
    {
     "data": {
      "text/html": [
       "<div>\n",
       "<style scoped>\n",
       "    .dataframe tbody tr th:only-of-type {\n",
       "        vertical-align: middle;\n",
       "    }\n",
       "\n",
       "    .dataframe tbody tr th {\n",
       "        vertical-align: top;\n",
       "    }\n",
       "\n",
       "    .dataframe thead th {\n",
       "        text-align: right;\n",
       "    }\n",
       "</style>\n",
       "<table border=\"1\" class=\"dataframe\">\n",
       "  <thead>\n",
       "    <tr style=\"text-align: right;\">\n",
       "      <th></th>\n",
       "      <th>Noise Percent</th>\n",
       "      <th>Recall</th>\n",
       "      <th>Cost</th>\n",
       "    </tr>\n",
       "  </thead>\n",
       "  <tbody>\n",
       "    <tr>\n",
       "      <th>0</th>\n",
       "      <td>1%</td>\n",
       "      <td>0.965333</td>\n",
       "      <td>11900</td>\n",
       "    </tr>\n",
       "    <tr>\n",
       "      <th>1</th>\n",
       "      <td>5%</td>\n",
       "      <td>0.965333</td>\n",
       "      <td>12000</td>\n",
       "    </tr>\n",
       "    <tr>\n",
       "      <th>2</th>\n",
       "      <td>10%</td>\n",
       "      <td>0.965333</td>\n",
       "      <td>12060</td>\n",
       "    </tr>\n",
       "    <tr>\n",
       "      <th>3</th>\n",
       "      <td>15%</td>\n",
       "      <td>0.965333</td>\n",
       "      <td>12060</td>\n",
       "    </tr>\n",
       "    <tr>\n",
       "      <th>4</th>\n",
       "      <td>20%</td>\n",
       "      <td>0.968000</td>\n",
       "      <td>11440</td>\n",
       "    </tr>\n",
       "  </tbody>\n",
       "</table>\n",
       "</div>"
      ],
      "text/plain": [
       "  Noise Percent    Recall   Cost\n",
       "0            1%  0.965333  11900\n",
       "1            5%  0.965333  12000\n",
       "2           10%  0.965333  12060\n",
       "3           15%  0.965333  12060\n",
       "4           20%  0.968000  11440"
      ]
     },
     "execution_count": 622,
     "metadata": {},
     "output_type": "execute_result"
    }
   ],
   "source": [
    "noise_smote_result_df = pd.DataFrame()\n",
    "noise_smote_result_df['Noise Percent'] = noise_percent\n",
    "noise_smote_result_df['Recall'] = n1_recall_list_noise\n",
    "noise_smote_result_df['Cost'] = n1_precision_list_noise\n",
    "\n",
    "noise_smote_result_df"
   ]
  },
  {
   "cell_type": "markdown",
   "metadata": {},
   "source": [
    "## <center> Changing Noise Values</center>"
   ]
  },
  {
   "cell_type": "code",
   "execution_count": 438,
   "metadata": {},
   "outputs": [],
   "source": [
    "noise_percent = [2,7,12,17]\n",
    "\n",
    "n1_precision_list_noise = []\n",
    "n1_recall_list_noise = []\n",
    "n1_cost_list_noise = []"
   ]
  },
  {
   "cell_type": "markdown",
   "metadata": {},
   "source": [
    "### Adding Norm Noise 2"
   ]
  },
  {
   "cell_type": "code",
   "execution_count": 439,
   "metadata": {},
   "outputs": [],
   "source": [
    "imputed_df_train_noise_1, train_labels_1 = add_noise(imputed_df_train, training_labels, 0.15, 2)"
   ]
  },
  {
   "cell_type": "code",
   "execution_count": 440,
   "metadata": {},
   "outputs": [],
   "source": [
    "nn = Normalizer()\n",
    "\n",
    "normalised_df_train_noise1 = nn.fit_transform(imputed_df_train_noise_1)\n",
    "normalised_df_test_noise1 = nn.transform(imputed_df_test)"
   ]
  },
  {
   "cell_type": "code",
   "execution_count": 441,
   "metadata": {},
   "outputs": [],
   "source": [
    "smote_obj2 = SMOTE(random_state=42)\n",
    "\n",
    "train_smote_noise1, train_smote_labels1 = smote_obj.fit_resample(normalised_df_train_noise1, train_labels_1)"
   ]
  },
  {
   "cell_type": "code",
   "execution_count": 442,
   "metadata": {},
   "outputs": [
    {
     "data": {
      "image/png": "[encoded data removed]",
      "text/plain": [
       "<Figure size 360x360 with 1 Axes>"
      ]
     },
     "metadata": {
      "needs_background": "light"
     },
     "output_type": "display_data"
    },
    {
     "name": "stdout",
     "output_type": "stream",
     "text": [
      "   True_negatives  False_positives  False_negatives  True_positives\n",
      "0           15080              545               12             363\n",
      "Cost is : 11450\n"
     ]
    }
   ],
   "source": [
    "rf_cost_test_noise1, prec_rf_test_noise1, rec_rf_test_noise1, f1_rf_test_noise1 = train_rf_model(train_smote_noise1,\n",
    "                                                                                    train_smote_labels1, normalised_df_test,\n",
    "                                                                                         testing_labels, threshold=0.85)"
   ]
  },
  {
   "cell_type": "code",
   "execution_count": 443,
   "metadata": {},
   "outputs": [],
   "source": [
    "n1_precision_list_noise.append(rf_cost_test_noise1)\n",
    "n1_recall_list_noise.append(rec_rf_test_noise1)\n",
    "n1_cost_list_noise.append(prec_rf_test_noise1)"
   ]
  },
  {
   "cell_type": "markdown",
   "metadata": {},
   "source": [
    "### Adding Norm Noise 7"
   ]
  },
  {
   "cell_type": "code",
   "execution_count": 444,
   "metadata": {},
   "outputs": [],
   "source": [
    "imputed_df_train_noise_5, train_labels_5 = add_noise(imputed_df_train, training_labels, 0.15, 7)"
   ]
  },
  {
   "cell_type": "code",
   "execution_count": 445,
   "metadata": {},
   "outputs": [],
   "source": [
    "nn = Normalizer()\n",
    "\n",
    "normalised_df_train_noise5 = nn.fit_transform(imputed_df_train_noise_5)\n",
    "normalised_df_test_noise5 = nn.transform(imputed_df_test)"
   ]
  },
  {
   "cell_type": "code",
   "execution_count": 446,
   "metadata": {},
   "outputs": [],
   "source": [
    "smote_obj2 = SMOTE(random_state=42)\n",
    "\n",
    "train_smote_noise5, train_smote_labels5 = smote_obj.fit_resample(normalised_df_train_noise5, train_labels_5)"
   ]
  },
  {
   "cell_type": "code",
   "execution_count": 447,
   "metadata": {},
   "outputs": [
    {
     "data": {
      "image/png": "[encoded data removed]",
      "text/plain": [
       "<Figure size 360x360 with 1 Axes>"
      ]
     },
     "metadata": {
      "needs_background": "light"
     },
     "output_type": "display_data"
    },
    {
     "name": "stdout",
     "output_type": "stream",
     "text": [
      "   True_negatives  False_positives  False_negatives  True_positives\n",
      "0           15080              545               13             362\n",
      "Cost is : 11950\n"
     ]
    }
   ],
   "source": [
    "rf_cost_test_noise5, prec_rf_test_noise5, rec_rf_test_noise5, f1_rf_test_noise5 = train_rf_model(train_smote_noise5,\n",
    "                                                                                    train_smote_labels5, normalised_df_test,\n",
    "                                                                                         testing_labels, threshold=0.85)"
   ]
  },
  {
   "cell_type": "code",
   "execution_count": 448,
   "metadata": {},
   "outputs": [],
   "source": [
    "n1_precision_list_noise.append(rf_cost_test_noise5)\n",
    "n1_recall_list_noise.append(rec_rf_test_noise5)\n",
    "n1_cost_list_noise.append(prec_rf_test_noise5)"
   ]
  },
  {
   "cell_type": "markdown",
   "metadata": {},
   "source": [
    "### Adding Norm Noise 12"
   ]
  },
  {
   "cell_type": "code",
   "execution_count": 449,
   "metadata": {},
   "outputs": [],
   "source": [
    "imputed_df_train_noise_10, train_labels_10 = add_noise(imputed_df_train, training_labels, 0.15, 12)"
   ]
  },
  {
   "cell_type": "code",
   "execution_count": 450,
   "metadata": {},
   "outputs": [],
   "source": [
    "nn = Normalizer()\n",
    "\n",
    "normalised_df_train_noise10 = nn.fit_transform(imputed_df_train_noise_10)\n",
    "normalised_df_test_noise10 = nn.transform(imputed_df_test)"
   ]
  },
  {
   "cell_type": "code",
   "execution_count": 451,
   "metadata": {},
   "outputs": [],
   "source": [
    "smote_obj2 = SMOTE(random_state=42)\n",
    "\n",
    "train_smote_noise10, train_smote_labels10 = smote_obj.fit_resample(normalised_df_train_noise10, train_labels_10)"
   ]
  },
  {
   "cell_type": "code",
   "execution_count": 452,
   "metadata": {},
   "outputs": [
    {
     "data": {
      "image/png": "[encoded data removed]",
      "text/plain": [
       "<Figure size 360x360 with 1 Axes>"
      ]
     },
     "metadata": {
      "needs_background": "light"
     },
     "output_type": "display_data"
    },
    {
     "name": "stdout",
     "output_type": "stream",
     "text": [
      "   True_negatives  False_positives  False_negatives  True_positives\n",
      "0           15075              550               10             365\n",
      "Cost is : 10500\n"
     ]
    }
   ],
   "source": [
    "rf_cost_test_noise10, prec_rf_test_noise10, rec_rf_test_noise10, f1_rf_test_noise10 = train_rf_model(train_smote_noise10,\n",
    "                                                                                    train_smote_labels10, normalised_df_test,\n",
    "                                                                                         testing_labels, threshold=0.85)"
   ]
  },
  {
   "cell_type": "code",
   "execution_count": 453,
   "metadata": {},
   "outputs": [],
   "source": [
    "n1_precision_list_noise.append(rf_cost_test_noise10)\n",
    "n1_recall_list_noise.append(rec_rf_test_noise10)\n",
    "n1_cost_list_noise.append(prec_rf_test_noise10)"
   ]
  },
  {
   "cell_type": "markdown",
   "metadata": {},
   "source": [
    "### Adding Norm Noise 17"
   ]
  },
  {
   "cell_type": "code",
   "execution_count": 454,
   "metadata": {},
   "outputs": [],
   "source": [
    "imputed_df_train_noise_15, train_labels_15 = add_noise(imputed_df_train, training_labels, 0.15, 17)"
   ]
  },
  {
   "cell_type": "code",
   "execution_count": 455,
   "metadata": {},
   "outputs": [],
   "source": [
    "nn = Normalizer()\n",
    "\n",
    "normalised_df_train_noise15 = nn.fit_transform(imputed_df_train_noise_15)\n",
    "normalised_df_test_noise15 = nn.transform(imputed_df_test)"
   ]
  },
  {
   "cell_type": "code",
   "execution_count": 456,
   "metadata": {},
   "outputs": [],
   "source": [
    "smote_obj2 = SMOTE(random_state=42)\n",
    "\n",
    "train_smote_noise15, train_smote_labels15 = smote_obj.fit_resample(normalised_df_train_noise15, train_labels_15)"
   ]
  },
  {
   "cell_type": "code",
   "execution_count": 457,
   "metadata": {},
   "outputs": [
    {
     "data": {
      "image/png": "[encoded data removed]",
      "text/plain": [
       "<Figure size 360x360 with 1 Axes>"
      ]
     },
     "metadata": {
      "needs_background": "light"
     },
     "output_type": "display_data"
    },
    {
     "name": "stdout",
     "output_type": "stream",
     "text": [
      "   True_negatives  False_positives  False_negatives  True_positives\n",
      "0           15077              548               13             362\n",
      "Cost is : 11980\n"
     ]
    }
   ],
   "source": [
    "rf_cost_test_noise15, prec_rf_test_noise15, rec_rf_test_noise15, f1_rf_test_noise15 = train_rf_model(train_smote_noise15,\n",
    "                                                                                    train_smote_labels15, normalised_df_test,\n",
    "                                                                                         testing_labels, threshold=0.85)"
   ]
  },
  {
   "cell_type": "code",
   "execution_count": 458,
   "metadata": {},
   "outputs": [],
   "source": [
    "n1_precision_list_noise.append(rf_cost_test_noise15)\n",
    "n1_recall_list_noise.append(rec_rf_test_noise15)\n",
    "n1_cost_list_noise.append(prec_rf_test_noise15)"
   ]
  },
  {
   "cell_type": "code",
   "execution_count": 461,
   "metadata": {},
   "outputs": [
    {
     "data": {
      "text/html": [
       "<div>\n",
       "<style scoped>\n",
       "    .dataframe tbody tr th:only-of-type {\n",
       "        vertical-align: middle;\n",
       "    }\n",
       "\n",
       "    .dataframe tbody tr th {\n",
       "        vertical-align: top;\n",
       "    }\n",
       "\n",
       "    .dataframe thead th {\n",
       "        text-align: right;\n",
       "    }\n",
       "</style>\n",
       "<table border=\"1\" class=\"dataframe\">\n",
       "  <thead>\n",
       "    <tr style=\"text-align: right;\">\n",
       "      <th></th>\n",
       "      <th>Noise Percent</th>\n",
       "      <th>Normal Noise Upper Range</th>\n",
       "      <th>Recall</th>\n",
       "      <th>Cost</th>\n",
       "    </tr>\n",
       "  </thead>\n",
       "  <tbody>\n",
       "    <tr>\n",
       "      <th>0</th>\n",
       "      <td>15</td>\n",
       "      <td>2</td>\n",
       "      <td>0.968000</td>\n",
       "      <td>11450</td>\n",
       "    </tr>\n",
       "    <tr>\n",
       "      <th>1</th>\n",
       "      <td>15</td>\n",
       "      <td>7</td>\n",
       "      <td>0.965333</td>\n",
       "      <td>11950</td>\n",
       "    </tr>\n",
       "    <tr>\n",
       "      <th>2</th>\n",
       "      <td>15</td>\n",
       "      <td>12</td>\n",
       "      <td>0.973333</td>\n",
       "      <td>10500</td>\n",
       "    </tr>\n",
       "    <tr>\n",
       "      <th>3</th>\n",
       "      <td>15</td>\n",
       "      <td>17</td>\n",
       "      <td>0.965333</td>\n",
       "      <td>11980</td>\n",
       "    </tr>\n",
       "  </tbody>\n",
       "</table>\n",
       "</div>"
      ],
      "text/plain": [
       "   Noise Percent  Normal Noise Upper Range    Recall   Cost\n",
       "0             15                         2  0.968000  11450\n",
       "1             15                         7  0.965333  11950\n",
       "2             15                        12  0.973333  10500\n",
       "3             15                        17  0.965333  11980"
      ]
     },
     "execution_count": 461,
     "metadata": {},
     "output_type": "execute_result"
    }
   ],
   "source": [
    "noise_smote_result_df2 = pd.DataFrame()\n",
    "noise_smote_result_df2['Noise Percent'] = [15,15,15,15]\n",
    "noise_smote_result_df2['Normal Noise Upper Range'] = noise_percent\n",
    "noise_smote_result_df2['Recall'] = n1_recall_list_noise\n",
    "noise_smote_result_df2['Cost'] = n1_precision_list_noise\n",
    "\n",
    "noise_smote_result_df2"
   ]
  },
  {
   "cell_type": "markdown",
   "metadata": {},
   "source": [
    "## SMOTE + ENN on 15% noise added data and noise values in the range (0,17)"
   ]
  },
  {
   "cell_type": "code",
   "execution_count": 545,
   "metadata": {},
   "outputs": [],
   "source": [
    "# define the undersampling method\n",
    "undersample = EditedNearestNeighbours(n_neighbors= 7)\n",
    "# transform the dataset\n",
    "train_sm_enn_noise15, train_sm_enn_labels_noise15 = undersample.fit_resample(train_smote_noise15, train_smote_labels15)"
   ]
  },
  {
   "cell_type": "code",
   "execution_count": 546,
   "metadata": {},
   "outputs": [],
   "source": [
    "def train_rf_model_sm_enn_attnoise(train, train_lab, test, test_lab, threshold = 0.85):\n",
    "    \n",
    "    rf = RandomForestClassifier(n_estimators=600, min_samples_split=10, min_samples_leaf=3, n_jobs = -1, random_state = 4213)\n",
    "    rf.fit(train, train_lab)\n",
    "    \n",
    "    rf_train_pred = rf.predict_proba(train)\n",
    "    rf_test_pred = rf.predict_proba(test)\n",
    "    \n",
    "    test_labels = []\n",
    "\n",
    "    for i, j in rf_test_pred:\n",
    "\n",
    "        if i > threshold:\n",
    "            test_labels.append(0)\n",
    "        else:\n",
    "            test_labels.append(1)\n",
    "\n",
    "    #result_analysis(testing_labels, test_labels)\n",
    "    \n",
    "    return result_analysis(testing_labels, test_labels)"
   ]
  },
  {
   "cell_type": "code",
   "execution_count": 547,
   "metadata": {},
   "outputs": [
    {
     "data": {
      "image/png": "[encoded data removed]",
      "text/plain": [
       "<Figure size 360x360 with 1 Axes>"
      ]
     },
     "metadata": {
      "needs_background": "light"
     },
     "output_type": "display_data"
    },
    {
     "name": "stdout",
     "output_type": "stream",
     "text": [
      "   True_negatives  False_positives  False_negatives  True_positives\n",
      "0           15076              549               13             362\n",
      "Cost is : 11990\n"
     ]
    }
   ],
   "source": [
    "c, p, r, f = train_rf_model_sm_enn_attnoise(train_sm_enn_noise15, train_sm_enn_labels_noise15, normalised_df_test, testing_labels)"
   ]
  },
  {
   "cell_type": "markdown",
   "metadata": {},
   "source": [
    "### Adding Class Noise"
   ]
  },
  {
   "cell_type": "code",
   "execution_count": 475,
   "metadata": {},
   "outputs": [],
   "source": [
    "def add_class_noise(features, labels, noise_percentage):\n",
    "    \n",
    "    X_train, X_test, y_train, y_test = train_test_split(features, labels, stratify = labels, test_size=noise_percentage,\n",
    "                                                        random_state = 42)\n",
    "    for i in range(len(y_test)):\n",
    "        \n",
    "        if y_test[i] == 0:\n",
    "            y_test[i] = 1\n",
    "        else:\n",
    "            y_test[i] = 0\n",
    "        \n",
    "    data = pd.concat([X_train, X_test])\n",
    "    \n",
    "    labels = y_train + y_test\n",
    "    \n",
    "    return data, labels"
   ]
  },
  {
   "cell_type": "markdown",
   "metadata": {},
   "source": [
    "### 1 percent Class Noise"
   ]
  },
  {
   "cell_type": "code",
   "execution_count": 483,
   "metadata": {},
   "outputs": [],
   "source": [
    "imputed_df_train_cla_noise_1, train_labels_1 = add_class_noise(imputed_df_train, training_labels, 0.01)"
   ]
  },
  {
   "cell_type": "code",
   "execution_count": 484,
   "metadata": {},
   "outputs": [],
   "source": [
    "nn = Normalizer()\n",
    "\n",
    "normalised_df_train_cla_noise1 = nn.fit_transform(imputed_df_train_cla_noise_1)\n",
    "normalised_df_test_cla_noise1 = nn.transform(imputed_df_test)"
   ]
  },
  {
   "cell_type": "code",
   "execution_count": 485,
   "metadata": {},
   "outputs": [],
   "source": [
    "smote_obj2 = SMOTE(random_state=42)\n",
    "\n",
    "train_smote_cla_noise1, train_smote_cla_labels1 = smote_obj.fit_resample(normalised_df_train_cla_noise1, train_labels_1)"
   ]
  },
  {
   "cell_type": "code",
   "execution_count": 486,
   "metadata": {
    "scrolled": false
   },
   "outputs": [
    {
     "data": {
      "image/png": "[encoded data removed]",
      "text/plain": [
       "<Figure size 360x360 with 1 Axes>"
      ]
     },
     "metadata": {
      "needs_background": "light"
     },
     "output_type": "display_data"
    },
    {
     "name": "stdout",
     "output_type": "stream",
     "text": [
      "   True_negatives  False_positives  False_negatives  True_positives\n",
      "0           13336             2289                9             366\n",
      "Cost is : 27390\n"
     ]
    }
   ],
   "source": [
    "rf_cost_test_cla_noise1, prec_rf_test_cla_noise1, rec_rf_test_cla_noise1, f1_rf_test_cla_noise1 = train_rf_model(train_smote_cla_noise1,\n",
    "                                                                                    train_smote_cla_labels1, normalised_df_test,\n",
    "                                                                                         testing_labels, threshold=0.85)"
   ]
  },
  {
   "cell_type": "code",
   "execution_count": 488,
   "metadata": {},
   "outputs": [
    {
     "data": {
      "text/plain": [
       "(27390, 0.13785310734463277, 0.976, 0.24158415841584158)"
      ]
     },
     "execution_count": 488,
     "metadata": {},
     "output_type": "execute_result"
    }
   ],
   "source": [
    "rf_cost_test_cla_noise1, prec_rf_test_cla_noise1, rec_rf_test_cla_noise1, f1_rf_test_cla_noise1"
   ]
  },
  {
   "cell_type": "markdown",
   "metadata": {},
   "source": [
    "## SMOTE + ENN on 1% Class Noise"
   ]
  },
  {
   "cell_type": "code",
   "execution_count": 490,
   "metadata": {},
   "outputs": [],
   "source": [
    "# define the undersampling method\n",
    "undersample = EditedNearestNeighbours(n_neighbors=7)\n",
    "# transform the dataset\n",
    "train_sm_enn_cla_noise1, train_sm_enn_labels_cla_noise1 = undersample.fit_resample(train_smote_cla_noise1, train_smote_cla_labels1)"
   ]
  },
  {
   "cell_type": "code",
   "execution_count": 491,
   "metadata": {
    "scrolled": true
   },
   "outputs": [
    {
     "data": {
      "image/png": "[encoded data removed]",
      "text/plain": [
       "<Figure size 360x360 with 1 Axes>"
      ]
     },
     "metadata": {
      "needs_background": "light"
     },
     "output_type": "display_data"
    },
    {
     "name": "stdout",
     "output_type": "stream",
     "text": [
      "   True_negatives  False_positives  False_negatives  True_positives\n",
      "0           13561             2064                9             366\n",
      "Cost is : 25140\n"
     ]
    }
   ],
   "source": [
    "c, p, r, f = train_rf_model(train_sm_enn_cla_noise1, train_sm_enn_labels_cla_noise1, normalised_df_test, testing_labels)"
   ]
  },
  {
   "cell_type": "markdown",
   "metadata": {},
   "source": [
    "### 0.5 percent Class Noise"
   ]
  },
  {
   "cell_type": "code",
   "execution_count": 623,
   "metadata": {},
   "outputs": [],
   "source": [
    "imputed_df_train_cla_noise_05, train_labels_05 = add_class_noise(imputed_df_train, training_labels, 0.005)"
   ]
  },
  {
   "cell_type": "code",
   "execution_count": 624,
   "metadata": {},
   "outputs": [],
   "source": [
    "nn = Normalizer()\n",
    "\n",
    "normalised_df_train_cla_noise05 = nn.fit_transform(imputed_df_train_cla_noise_05)\n",
    "normalised_df_test_cla_noise05 = nn.transform(imputed_df_test)"
   ]
  },
  {
   "cell_type": "code",
   "execution_count": 625,
   "metadata": {},
   "outputs": [],
   "source": [
    "smote_obj2 = SMOTE(random_state=42)\n",
    "\n",
    "train_smote_cla_noise05, train_smote_cla_labels05 = smote_obj.fit_resample(normalised_df_train_cla_noise05, train_labels_05)"
   ]
  },
  {
   "cell_type": "code",
   "execution_count": 626,
   "metadata": {
    "scrolled": false
   },
   "outputs": [
    {
     "data": {
      "image/png": "[encoded data removed]",
      "text/plain": [
       "<Figure size 360x360 with 1 Axes>"
      ]
     },
     "metadata": {
      "needs_background": "light"
     },
     "output_type": "display_data"
    },
    {
     "name": "stdout",
     "output_type": "stream",
     "text": [
      "   True_negatives  False_positives  False_negatives  True_positives\n",
      "0           14444             1181               10             365\n",
      "Cost is : 16810\n"
     ]
    }
   ],
   "source": [
    "rf_cost_test_cla_noise05, prec_rf_test_cla_noise05, rec_rf_test_cla_noise05, f1_rf_test_cla_noise05 = train_rf_model(train_smote_cla_noise05,\n",
    "                                                                                    train_smote_cla_labels05, normalised_df_test,\n",
    "                                                                                         testing_labels, threshold=0.85)"
   ]
  },
  {
   "cell_type": "code",
   "execution_count": 627,
   "metadata": {},
   "outputs": [
    {
     "data": {
      "text/plain": [
       "(16810, 0.23609314359637776, 0.9733333333333334, 0.3800104112441437)"
      ]
     },
     "execution_count": 627,
     "metadata": {},
     "output_type": "execute_result"
    }
   ],
   "source": [
    "rf_cost_test_cla_noise05, prec_rf_test_cla_noise05, rec_rf_test_cla_noise05, f1_rf_test_cla_noise05"
   ]
  },
  {
   "cell_type": "markdown",
   "metadata": {},
   "source": [
    "## SMOTE + ENN on 0.5% Class Noise"
   ]
  },
  {
   "cell_type": "code",
   "execution_count": 635,
   "metadata": {},
   "outputs": [],
   "source": [
    "# define the undersampling method\n",
    "undersample = EditedNearestNeighbours(n_neighbors= 7)\n",
    "# transform the dataset\n",
    "train_sm_enn_cla_noise05, train_sm_enn_labels_cla_noise05 = undersample.fit_resample(train_smote_cla_noise05, train_smote_cla_labels05)"
   ]
  },
  {
   "cell_type": "code",
   "execution_count": 636,
   "metadata": {},
   "outputs": [],
   "source": [
    "def train_rf_model_smote_enn(train, train_lab, test, test_lab, threshold = 0.85):\n",
    "    \n",
    "    rf = RandomForestClassifier(n_estimators= 2400, min_samples_split=10, min_samples_leaf=3, n_jobs = -1, random_state = 4213)\n",
    "    rf.fit(train, train_lab)\n",
    "    \n",
    "    rf_train_pred = rf.predict_proba(train)\n",
    "    rf_test_pred = rf.predict_proba(test)\n",
    "    \n",
    "    test_labels = []\n",
    "\n",
    "    for i, j in rf_test_pred:\n",
    "\n",
    "        if i > threshold:\n",
    "            test_labels.append(0)\n",
    "        else:\n",
    "            test_labels.append(1)\n",
    "\n",
    "    #result_analysis(testing_labels, test_labels)\n",
    "    \n",
    "    return result_analysis(testing_labels, test_labels)"
   ]
  },
  {
   "cell_type": "code",
   "execution_count": 637,
   "metadata": {
    "scrolled": true
   },
   "outputs": [
    {
     "data": {
      "image/png": "[encoded data removed]",
      "text/plain": [
       "<Figure size 360x360 with 1 Axes>"
      ]
     },
     "metadata": {
      "needs_background": "light"
     },
     "output_type": "display_data"
    },
    {
     "name": "stdout",
     "output_type": "stream",
     "text": [
      "   True_negatives  False_positives  False_negatives  True_positives\n",
      "0           14542             1083               10             365\n",
      "Cost is : 15830\n"
     ]
    }
   ],
   "source": [
    "c, p, r, f = train_rf_model_smote_enn(train_sm_enn_cla_noise05, train_sm_enn_labels_cla_noise05, normalised_df_test, testing_labels)"
   ]
  },
  {
   "cell_type": "code",
   "execution_count": 634,
   "metadata": {},
   "outputs": [
    {
     "data": {
      "text/plain": [
       "(16810, 0.23609314359637776, 0.9733333333333334, 0.3800104112441437)"
      ]
     },
     "execution_count": 634,
     "metadata": {},
     "output_type": "execute_result"
    }
   ],
   "source": [
    "rf_cost_test_cla_noise05, prec_rf_test_cla_noise05, rec_rf_test_cla_noise05, f1_rf_test_cla_noise05"
   ]
  },
  {
   "cell_type": "markdown",
   "metadata": {},
   "source": [
    "# SMOTE + ENN Normal Data"
   ]
  },
  {
   "cell_type": "code",
   "execution_count": 652,
   "metadata": {},
   "outputs": [],
   "source": [
    "# define the undersampling method\n",
    "undersample = EditedNearestNeighbours(n_neighbors= 5)\n",
    "# transform the dataset\n",
    "train_sm_enn_nonoise, train_sm_enn_labels_nonoise = undersample.fit_resample(smote_train_df, training_labels_smote)"
   ]
  },
  {
   "cell_type": "code",
   "execution_count": 673,
   "metadata": {},
   "outputs": [],
   "source": [
    "def train_rf_model_smote_enn(train, train_lab, test, test_lab, threshold = 0.85):\n",
    "    \n",
    "    rf = RandomForestClassifier(n_estimators= 700, min_samples_split= 7, min_samples_leaf= 2, n_jobs = -1, random_state = 4213)\n",
    "    rf.fit(train, train_lab)\n",
    "    \n",
    "    rf_train_pred = rf.predict_proba(train)\n",
    "    rf_test_pred = rf.predict_proba(test)\n",
    "    \n",
    "    test_labels = []\n",
    "\n",
    "    for i, j in rf_test_pred:\n",
    "\n",
    "        if i > threshold:\n",
    "            test_labels.append(0)\n",
    "        else:\n",
    "            test_labels.append(1)\n",
    "\n",
    "    #result_analysis(testing_labels, test_labels)\n",
    "    \n",
    "    return result_analysis(testing_labels, test_labels)"
   ]
  },
  {
   "cell_type": "code",
   "execution_count": 674,
   "metadata": {
    "scrolled": true
   },
   "outputs": [
    {
     "data": {
      "image/png": "[encoded data removed]",
      "text/plain": [
       "<Figure size 360x360 with 1 Axes>"
      ]
     },
     "metadata": {
      "needs_background": "light"
     },
     "output_type": "display_data"
    },
    {
     "name": "stdout",
     "output_type": "stream",
     "text": [
      "   True_negatives  False_positives  False_negatives  True_positives\n",
      "0           15135              490               14             361\n",
      "Cost is : 11900\n"
     ]
    }
   ],
   "source": [
    "c, p, r, f = train_rf_model_smote_enn(train_sm_enn_nonoise, train_sm_enn_labels_nonoise, normalised_df_test, testing_labels)"
   ]
  },
  {
   "cell_type": "markdown",
   "metadata": {},
   "source": [
    "# SMOTE + ALLKNN 0.5% Noise"
   ]
  },
  {
   "cell_type": "code",
   "execution_count": 697,
   "metadata": {},
   "outputs": [],
   "source": [
    "# define the undersampling method\n",
    "allknn = AllKNN(n_neighbors= 5, n_jobs=-1)\n",
    "# transform the dataset\n",
    "train_sm_allknn_noise, train_sm_allknn_labels_noise = allknn.fit_resample(train_smote_cla_noise05, train_smote_cla_labels05)"
   ]
  },
  {
   "cell_type": "code",
   "execution_count": 698,
   "metadata": {},
   "outputs": [],
   "source": [
    "def train_rf_model_smote_allknn(train, train_lab, test, test_lab, threshold = 0.85):\n",
    "    \n",
    "    rf = RandomForestClassifier(n_estimators= 2000, min_samples_split= 7, min_samples_leaf= 2, n_jobs = -1, random_state = 4213)\n",
    "    rf.fit(train, train_lab)\n",
    "    \n",
    "    rf_train_pred = rf.predict_proba(train)\n",
    "    rf_test_pred = rf.predict_proba(test)\n",
    "    \n",
    "    test_labels = []\n",
    "\n",
    "    for i, j in rf_test_pred:\n",
    "\n",
    "        if i > threshold:\n",
    "            test_labels.append(0)\n",
    "        else:\n",
    "            test_labels.append(1)\n",
    "\n",
    "    #result_analysis(testing_labels, test_labels)\n",
    "    \n",
    "    return result_analysis(testing_labels, test_labels)"
   ]
  },
  {
   "cell_type": "code",
   "execution_count": 699,
   "metadata": {
    "scrolled": true
   },
   "outputs": [
    {
     "data": {
      "image/png": "[encoded data removed]",
      "text/plain": [
       "<Figure size 360x360 with 1 Axes>"
      ]
     },
     "metadata": {
      "needs_background": "light"
     },
     "output_type": "display_data"
    },
    {
     "name": "stdout",
     "output_type": "stream",
     "text": [
      "   True_negatives  False_positives  False_negatives  True_positives\n",
      "0           14601             1024               11             364\n",
      "Cost is : 15740\n"
     ]
    }
   ],
   "source": [
    "c, p, r, f = train_rf_model_smote_allknn(train_sm_allknn_noise, train_sm_allknn_labels_noise, normalised_df_test, testing_labels)"
   ]
  }
 ],
 "metadata": {
  "kernelspec": {
   "display_name": "Python 3",
   "language": "python",
   "name": "python3"
  },
  "language_info": {
   "codemirror_mode": {
    "name": "ipython",
    "version": 3
   },
   "file_extension": ".py",
   "mimetype": "text/x-python",
   "name": "python",
   "nbconvert_exporter": "python",
   "pygments_lexer": "ipython3",
   "version": "3.7.10"
  }
 },
 "nbformat": 4,
 "nbformat_minor": 4
}
